{
  "nbformat": 4,
  "nbformat_minor": 0,
  "metadata": {
    "colab": {
      "name": "Pre-Class Work CS166 Class 1.1.ipynb",
      "provenance": [],
      "authorship_tag": "ABX9TyN5kVK1wYpqoGxhtpXjeUhB",
      "include_colab_link": true
    },
    "kernelspec": {
      "name": "python3",
      "display_name": "Python 3"
    }
  },
  "cells": [
    {
      "cell_type": "markdown",
      "metadata": {
        "id": "view-in-github",
        "colab_type": "text"
      },
      "source": [
        "<a href=\"https://colab.research.google.com/github/pedro-de-bastos/CS166-Modeling-Simulation-and-Decision-Making/blob/main/Pre_Class_Work_CS166_Class_1_1.ipynb\" target=\"_parent\"><img src=\"https://colab.research.google.com/assets/colab-badge.svg\" alt=\"Open In Colab\"/></a>"
      ]
    },
    {
      "cell_type": "markdown",
      "metadata": {
        "id": "aclFFSZAmjJT"
      },
      "source": [
        "# Pre-Class Work CS166 Class 1.1\r\n"
      ]
    },
    {
      "cell_type": "markdown",
      "metadata": {
        "id": "WeNIxz2zmoIU"
      },
      "source": [
        "## 1. Arrival and departures rates and exponential distributions\r\n",
        "### What are the assumptions of the model?\r\n",
        "\r\n",
        "- The time between consecutive customers joining a queue is exponentially distributed\r\n",
        "- The time it takes to serve a customer is normally distributed\r\n",
        "- The time it takes for a manager to solve a problem is normally distributed\r\n",
        "\r\n",
        "### What are the variables that represent the state of the system?\r\n",
        "\r\n",
        "- The number of customers in each queue\r\n",
        "- The number of servers/queues\r\n",
        "- Whether the manager is engaged in solving a particular problem\r\n",
        "\r\n",
        "### What are the rules of the system? (The rules describe how the values of the variables are updated.)\r\n",
        "\r\n",
        "- New customers join lines between 9am and 6pm\r\n",
        "- A new customer will join the shortest line (or go directly to a cashier)\r\n",
        "- The manager will be engaged in 5% of the cases to solve a problem\r\n",
        "\r\n",
        "### What are the input parameters we need to set before starting the simulation?\r\n",
        "\r\n",
        "- The number of cashiers\r\n",
        "- The hyperparameters of our distributions (like the rate $\\lambda$ and mean $\\mu_{1}$).\r\n",
        "\r\n",
        "### What are the outputs we might want to measure during or at the end of the simulation?\r\n",
        "\r\n",
        "- The average waiting time for each customer\r\n",
        "- The percentage of cashiers that were engaged with serving customers at each moment\r\n",
        "\r\n",
        "## How I Applied #Modeling\r\n",
        "\r\n",
        "In this exercise I described the main components of the model, as well as the rules that govern the actors. The model is evidently a simplification of reality, using artifices like the exponential and normal distributions as substitutes to real interactions between agents. The model also simplifies greatly the range of interactions that can occur, and does not allow room for novel and surprising disruptions (like a kid ramming his shopping cart into someone else's cart and causing a ruckus). Nonetheless, this simplification may be good enough to approximate the effect of hiring different numbers of cashiers."
      ]
    },
    {
      "cell_type": "markdown",
      "metadata": {
        "id": "s6iXJ8kArIpb"
      },
      "source": [
        "## 2. Simulating exponential random variables"
      ]
    },
    {
      "cell_type": "code",
      "metadata": {
        "id": "vGML17KFmeMg"
      },
      "source": [
        "import numpy as np\r\n",
        "import scipy.stats as sts\r\n",
        "\r\n",
        "rate_parameter = 3\r\n",
        "distribution = sts.expon(scale=1/rate_parameter)\r\n",
        "sample = distribution.rvs(1000)"
      ],
      "execution_count": null,
      "outputs": []
    },
    {
      "cell_type": "code",
      "metadata": {
        "colab": {
          "base_uri": "https://localhost:8080/"
        },
        "id": "hRLEpIuirgpp",
        "outputId": "daabf7b2-f339-4cbe-9ef4-9f6c6d7b4889"
      },
      "source": [
        "print(np.mean(sample))\r\n",
        "print(np.var(sample))"
      ],
      "execution_count": null,
      "outputs": [
        {
          "output_type": "stream",
          "text": [
            "0.3222462510122128\n",
            "0.09517542785324122\n"
          ],
          "name": "stdout"
        }
      ]
    },
    {
      "cell_type": "markdown",
      "metadata": {
        "id": "CagXhWC1rwuU"
      },
      "source": [
        "The mean of the exponential distribution is $\\frac{1}{\\lambda}$. Thus, with $\\lambda=3$ we expect a mean of $\\approx 0.33$ which is what we observe. \r\n",
        "\r\n",
        "The variance of the exponential distribution is $\\frac{1}{\\lambda^2}$. Thus we expect a variance of $\\frac{1}{9}\\approx 0.11$, which is somewhat close to the value of 0.095 we obtained."
      ]
    },
    {
      "cell_type": "markdown",
      "metadata": {
        "id": "6KZTDfGPskbG"
      },
      "source": [
        "## 3. Theoretical Properties of the Exponential Distribution\r\n",
        "\r\n",
        "Firstly, we might deduce that the exponential distribution is the best fit for the data by noting that values around 0 seem to be the most frequent, and that larger values become progressively less frequent, but that the rate of decrease is itself decreasing (we begin with a sharp fall in frequency that then tapers off). This shape is characteristic of the exponential distribution. "
      ]
    },
    {
      "cell_type": "markdown",
      "metadata": {
        "id": "pw7sHBl7uXMJ"
      },
      "source": [
        "We know that the mean of the exponential distribution is equal to $1/\\lambda$. Just by visual inspection of the graph, let us say that if we were to find the average height of the bars we would get something around 3 counts. This would lead us to $3=1/\\lambda$, and therefore $\\lambda=0\\approx0.33$."
      ]
    }
  ]
}