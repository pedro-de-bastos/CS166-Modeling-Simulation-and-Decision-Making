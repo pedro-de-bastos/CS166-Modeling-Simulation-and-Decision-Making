{
  "nbformat": 4,
  "nbformat_minor": 0,
  "metadata": {
    "colab": {
      "name": "Copy of CS166 PCW Session 19.ipynb",
      "provenance": [],
      "authorship_tag": "ABX9TyN8Ck3lg5//V5PYagExjeCw",
      "include_colab_link": true
    },
    "kernelspec": {
      "name": "python3",
      "display_name": "Python 3"
    }
  },
  "cells": [
    {
      "cell_type": "markdown",
      "metadata": {
        "id": "view-in-github",
        "colab_type": "text"
      },
      "source": [
        "<a href=\"https://colab.research.google.com/github/pedro-de-bastos/CS166-Modeling-Simulation-and-Decision-Making/blob/main/Copy_of_CS166_PCW_Session_19.ipynb\" target=\"_parent\"><img src=\"https://colab.research.google.com/assets/colab-badge.svg\" alt=\"Open In Colab\"/></a>"
      ]
    },
    {
      "cell_type": "code",
      "metadata": {
        "id": "SblqAUezZiCO"
      },
      "source": [
        "import matplotlib.pyplot as plt\r\n",
        "import networkx as nx\r\n",
        "import random as rd\r\n",
        "import numpy as np\r\n",
        "\r\n",
        "def initialize():\r\n",
        "    global g\r\n",
        "    g = nx.karate_club_graph()\r\n",
        "    g.pos = nx.spring_layout(g)\r\n",
        "    for i in g.nodes:\r\n",
        "        g.nodes[i]['state'] = 1 if rd.random() < .5 else 0\r\n",
        "\r\n",
        "def observe():\r\n",
        "    global g\r\n",
        "    cla()\r\n",
        "    nx.draw(g, vmin = 0, vmax = 1,\r\n",
        "            node_color = [g.nodes[i]['state'] for i in g.nodes],\r\n",
        "            pos = g.pos)\r\n",
        "\r\n",
        "def update():\r\n",
        "    global g\r\n",
        "    listener = rd.choice(list(g.nodes))\r\n",
        "    speaker = rd.choice(list(g.neighbors(listener)))\r\n",
        "    g.nodes[listener]['state'] = g.nodes[speaker]['state']\r\n",
        "\r\n",
        "\r\n",
        "def update_reversed():\r\n",
        "    global g\r\n",
        "    speaker = rd.choice(list(g.nodes))\r\n",
        "    listener = rd.choice(list(g.neighbors(speaker)))\r\n",
        "    g.nodes[listener]['state'] = g.nodes[speaker]['state']\r\n",
        "\r\n",
        "def update_edge():\r\n",
        "    global g\r\n",
        "    edge = rd.choice(list(g.edges))\r\n",
        "    speaker = rd.choice(edge)\r\n",
        "    listener = [j for j in edge if j != speaker][0]\r\n",
        "    g.nodes[listener]['state'] = g.nodes[speaker]['state']\r\n",
        "\r\n",
        "\r\n",
        "def ones_zeros(g):\r\n",
        "    ones = 0\r\n",
        "    zeros = 0\r\n",
        "    for i in g.nodes():\r\n",
        "        if g.nodes[i]['state'] == 1:\r\n",
        "            ones += 1\r\n",
        "        else:\r\n",
        "            zeros += 1\r\n",
        "    return ones, zeros\r\n",
        "\r\n",
        "def run_experiment(update):\r\n",
        "    initialize()\r\n",
        "    ones, zeros = ones_zeros(g)\r\n",
        "\r\n",
        "\r\n",
        "    steps = 0\r\n",
        "    while ones != len(g.nodes()) and zeros != len(g.nodes()):\r\n",
        "        ones, zeros = ones_zeros(g)\r\n",
        "        update()\r\n",
        "        steps += 1\r\n",
        "    return steps"
      ],
      "execution_count": 2,
      "outputs": []
    },
    {
      "cell_type": "markdown",
      "metadata": {
        "id": "EbH9j9-keya7"
      },
      "source": [
        "# Original Update Rule"
      ]
    },
    {
      "cell_type": "code",
      "metadata": {
        "colab": {
          "base_uri": "https://localhost:8080/",
          "height": 296
        },
        "id": "IMVS3j_gZwsS",
        "outputId": "7a0dde71-5dc0-4d7c-e67c-5d81db9ebecf"
      },
      "source": [
        "results = []\r\n",
        "\r\n",
        "for i in range(200):\r\n",
        "    results.append(run_experiment(update))\r\n",
        "\r\n",
        "plt.hist(results, edgecolor = 'black', color = 'mediumseagreen')\r\n",
        "plt.axvline(np.mean(results), color = \"yellow\", label=f\"The mean {np.mean(results)}\")\r\n",
        "plt.xlabel('Steps')\r\n",
        "plt.legend()"
      ],
      "execution_count": 7,
      "outputs": [
        {
          "output_type": "execute_result",
          "data": {
            "text/plain": [
              "<matplotlib.legend.Legend at 0x7fed739b6d90>"
            ]
          },
          "metadata": {
            "tags": []
          },
          "execution_count": 7
        },
        {
          "output_type": "display_data",
          "data": {
            "image/png": "[encoded data removed]",
            "text/plain": [
              "<Figure size 432x288 with 1 Axes>"
            ]
          },
          "metadata": {
            "tags": [],
            "needs_background": "light"
          }
        }
      ]
    },
    {
      "cell_type": "markdown",
      "metadata": {
        "id": "AwEcnfTze12w"
      },
      "source": [
        "# Reversed Update Rule"
      ]
    },
    {
      "cell_type": "code",
      "metadata": {
        "colab": {
          "base_uri": "https://localhost:8080/",
          "height": 296
        },
        "id": "DznGhYTfbjMp",
        "outputId": "fb06568b-5519-4ff8-b9f1-73eac5119a35"
      },
      "source": [
        "results = []\r\n",
        "\r\n",
        "for i in range(200):\r\n",
        "    results.append(run_experiment(update_reversed))\r\n",
        "\r\n",
        "plt.hist(results, edgecolor = 'black', color = 'coral')\r\n",
        "plt.axvline(np.mean(results), color = \"yellow\", label=f\"The mean {np.mean(results)}\")\r\n",
        "plt.xlabel('Steps')\r\n",
        "plt.legend()"
      ],
      "execution_count": 4,
      "outputs": [
        {
          "output_type": "execute_result",
          "data": {
            "text/plain": [
              "<matplotlib.legend.Legend at 0x7fed73c7a2d0>"
            ]
          },
          "metadata": {
            "tags": []
          },
          "execution_count": 4
        },
        {
          "output_type": "display_data",
          "data": {
            "image/png": "[encoded data removed]",
            "text/plain": [
              "<Figure size 432x288 with 1 Axes>"
            ]
          },
          "metadata": {
            "tags": [],
            "needs_background": "light"
          }
        }
      ]
    },
    {
      "cell_type": "markdown",
      "metadata": {
        "id": "BM476P7me4bh"
      },
      "source": [
        "# Edge Update Rule"
      ]
    },
    {
      "cell_type": "code",
      "metadata": {
        "colab": {
          "base_uri": "https://localhost:8080/",
          "height": 296
        },
        "id": "fOGDbsiWcwWs",
        "outputId": "b4e93c8f-3381-4afc-be45-cd3335ed2689"
      },
      "source": [
        "results = []\r\n",
        "\r\n",
        "for i in range(200):\r\n",
        "    results.append(run_experiment(update_edge))\r\n",
        "\r\n",
        "plt.hist(results)\r\n",
        "plt.hist(results, edgecolor = 'black', color = 'cornflowerblue')\r\n",
        "plt.axvline(np.mean(results), color = \"yellow\", label=f\"The mean {np.mean(results)}\")\r\n",
        "plt.xlabel('Steps')\r\n",
        "plt.legend()"
      ],
      "execution_count": 5,
      "outputs": [
        {
          "output_type": "execute_result",
          "data": {
            "text/plain": [
              "<matplotlib.legend.Legend at 0x7fed73a8fcd0>"
            ]
          },
          "metadata": {
            "tags": []
          },
          "execution_count": 5
        },
        {
          "output_type": "display_data",
          "data": {
            "image/png": "[encoded data removed]",
            "text/plain": [
              "<Figure size 432x288 with 1 Axes>"
            ]
          },
          "metadata": {
            "tags": [],
            "needs_background": "light"
          }
        }
      ]
    }
  ]
}