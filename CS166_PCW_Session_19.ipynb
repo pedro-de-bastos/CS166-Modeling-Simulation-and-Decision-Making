{
  "nbformat": 4,
  "nbformat_minor": 0,
  "metadata": {
    "colab": {
      "name": "CS166 PCW Session 19.ipynb",
      "provenance": [],
      "authorship_tag": "ABX9TyOPWApGAM/uVwVTv2yADram",
      "include_colab_link": true
    },
    "kernelspec": {
      "name": "python3",
      "display_name": "Python 3"
    }
  },
  "cells": [
    {
      "cell_type": "markdown",
      "metadata": {
        "id": "view-in-github",
        "colab_type": "text"
      },
      "source": [
        "<a href=\"https://colab.research.google.com/github/pedro-de-bastos/CS166-Modeling-Simulation-and-Decision-Making/blob/main/CS166_PCW_Session_19.ipynb\" target=\"_parent\"><img src=\"https://colab.research.google.com/assets/colab-badge.svg\" alt=\"Open In Colab\"/></a>"
      ]
    },
    {
      "cell_type": "markdown",
      "metadata": {
        "id": "XVdLDZefkTWF"
      },
      "source": [
        "# Pre-Class Work Session 19 (10.2 Dynamics on networks)\n",
        "\n",
        "By: Pedro M. de Bastos\n"
      ]
    },
    {
      "cell_type": "markdown",
      "metadata": {
        "id": "Dm0DHB7iiz4A"
      },
      "source": [
        "# Exercise 16.2\n",
        "\n",
        "Revise the code above so that you can measure how many\n",
        "steps it will take until the system reaches a consensus (i.e., homogenized state). Then run multiple simulations (Monte Carlo simulations) to calculate the average time length needed for consensus formation in the original voter model."
      ]
    },
    {
      "cell_type": "code",
      "metadata": {
        "id": "SblqAUezZiCO"
      },
      "source": [
        "import matplotlib.pyplot as plt\n",
        "import networkx as nx\n",
        "import random as rd\n",
        "import numpy as np\n",
        "\n",
        "def initialize():\n",
        "    global g\n",
        "    g = nx.karate_club_graph()\n",
        "    g.pos = nx.spring_layout(g)\n",
        "    for i in g.nodes:\n",
        "        g.nodes[i]['state'] = 1 if rd.random() < .5 else 0\n",
        "\n",
        "def observe():\n",
        "    global g\n",
        "    cla()\n",
        "    nx.draw(g, vmin = 0, vmax = 1,\n",
        "            node_color = [g.nodes[i]['state'] for i in g.nodes],\n",
        "            pos = g.pos)\n",
        "\n",
        "def update():\n",
        "    global g\n",
        "    listener = rd.choice(list(g.nodes))\n",
        "    speaker = rd.choice(list(g.neighbors(listener)))\n",
        "    g.nodes[listener]['state'] = g.nodes[speaker]['state']\n",
        "\n",
        "\n",
        "def update_reversed():\n",
        "    global g\n",
        "    speaker = rd.choice(list(g.nodes))\n",
        "    listener = rd.choice(list(g.neighbors(speaker)))\n",
        "    g.nodes[listener]['state'] = g.nodes[speaker]['state']\n",
        "\n",
        "def update_edge():\n",
        "    global g\n",
        "    edge = rd.choice(list(g.edges))\n",
        "    speaker = rd.choice(edge)\n",
        "    listener = [j for j in edge if j != speaker][0]\n",
        "    g.nodes[listener]['state'] = g.nodes[speaker]['state']\n",
        "\n",
        "\n",
        "def ones_zeros(g):\n",
        "    ones = 0\n",
        "    zeros = 0\n",
        "    for i in g.nodes():\n",
        "        if g.nodes[i]['state'] == 1:\n",
        "            ones += 1\n",
        "        else:\n",
        "            zeros += 1\n",
        "    return ones, zeros\n",
        "\n",
        "def run_experiment(update):\n",
        "    initialize()\n",
        "    ones, zeros = ones_zeros(g)\n",
        "\n",
        "\n",
        "    steps = 0\n",
        "    while ones != len(g.nodes()) and zeros != len(g.nodes()): #I update until there is consensus\n",
        "        ones, zeros = ones_zeros(g)\n",
        "        update()\n",
        "        steps += 1\n",
        "    return steps"
      ],
      "execution_count": 1,
      "outputs": []
    },
    {
      "cell_type": "code",
      "metadata": {
        "colab": {
          "base_uri": "https://localhost:8080/",
          "height": 298
        },
        "id": "IMVS3j_gZwsS",
        "outputId": "77ab94e6-6714-4435-d130-ee384c430b41"
      },
      "source": [
        "results = []\n",
        "\n",
        "for i in range(200):\n",
        "    results.append(run_experiment(update))\n",
        "\n",
        "plt.hist(results, edgecolor = 'black', color = 'mediumseagreen')\n",
        "plt.axvline(x = np.mean(results), color = 'black', ls = '--', label='Mean Steps')\n",
        "print(f\"The mean steps until consensus was {np.mean(results)}\")\n",
        "plt.legend()"
      ],
      "execution_count": 9,
      "outputs": [
        {
          "output_type": "stream",
          "text": [
            "The mean steps until consensus was 642.41\n"
          ],
          "name": "stdout"
        },
        {
          "output_type": "execute_result",
          "data": {
            "text/plain": [
              "<matplotlib.legend.Legend at 0x7f366d41d910>"
            ]
          },
          "metadata": {
            "tags": []
          },
          "execution_count": 9
        },
        {
          "output_type": "display_data",
          "data": {
            "image/png": "[encoded data removed]",
            "text/plain": [
              "<Figure size 432x288 with 1 Axes>"
            ]
          },
          "metadata": {
            "tags": [],
            "needs_background": "light"
          }
        }
      ]
    },
    {
      "cell_type": "markdown",
      "metadata": {
        "id": "9vrDdAyQjGQZ"
      },
      "source": [
        "# Exercise 16.3\n",
        "\n",
        "Revise the code further to implement (1) the reversed and (2)\n",
        "the edge-based voter models. Then conduct Monte Carlo simulations to measure the average time length needed for consensus formation in each case. Compare the results between the three versions."
      ]
    },
    {
      "cell_type": "code",
      "metadata": {
        "colab": {
          "base_uri": "https://localhost:8080/",
          "height": 282
        },
        "id": "DznGhYTfbjMp",
        "outputId": "3ec3ffa1-e14c-414f-dcb3-9fe65552b25c"
      },
      "source": [
        "#Experiment for the reversed edge rule\n",
        "results = []\n",
        "\n",
        "for i in range(200):\n",
        "    results.append(run_experiment(update_reversed))\n",
        "\n",
        "plt.hist(results, edgecolor = 'black', color = 'mediumseagreen')\n",
        "plt.axvline(x = np.mean(results), color = 'black', ls = '--', label='Mean Steps')\n",
        "print(f\"The mean steps until consensus was {np.mean(results)}\")"
      ],
      "execution_count": 10,
      "outputs": [
        {
          "output_type": "stream",
          "text": [
            "The mean steps until consensus was 3287.17\n"
          ],
          "name": "stdout"
        },
        {
          "output_type": "display_data",
          "data": {
            "image/png": "[encoded data removed]",
            "text/plain": [
              "<Figure size 432x288 with 1 Axes>"
            ]
          },
          "metadata": {
            "tags": [],
            "needs_background": "light"
          }
        }
      ]
    },
    {
      "cell_type": "code",
      "metadata": {
        "colab": {
          "base_uri": "https://localhost:8080/",
          "height": 282
        },
        "id": "fOGDbsiWcwWs",
        "outputId": "5f8a0e21-a5a1-491d-8ae1-dac06dc72c6f"
      },
      "source": [
        "#Experiment for choosing the edge instead of one of the nodes\n",
        "results = []\n",
        "\n",
        "for i in range(200):\n",
        "    results.append(run_experiment(update_edge))\n",
        "\n",
        "plt.hist(results, edgecolor = 'black', color = 'mediumseagreen')\n",
        "plt.axvline(x = np.mean(results), color = 'black', ls = '--', label='Mean Steps')\n",
        "print(f\"The mean steps until consensus was {np.mean(results)}\")"
      ],
      "execution_count": 11,
      "outputs": [
        {
          "output_type": "stream",
          "text": [
            "The mean steps until consensus was 1060.765\n"
          ],
          "name": "stdout"
        },
        {
          "output_type": "display_data",
          "data": {
            "image/png": "[encoded data removed]",
            "text/plain": [
              "<Figure size 432x288 with 1 Axes>"
            ]
          },
          "metadata": {
            "tags": [],
            "needs_background": "light"
          }
        }
      ]
    }
  ]
}