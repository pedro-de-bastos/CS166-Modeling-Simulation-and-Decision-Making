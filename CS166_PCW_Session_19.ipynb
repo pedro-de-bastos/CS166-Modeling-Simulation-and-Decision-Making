{
  "nbformat": 4,
  "nbformat_minor": 0,
  "metadata": {
    "colab": {
      "name": "CS166 PCW Session 19.ipynb",
      "provenance": [],
      "authorship_tag": "ABX9TyMGXzRTjtQgtriQYp/ZUpzm",
      "include_colab_link": true
    },
    "kernelspec": {
      "name": "python3",
      "display_name": "Python 3"
    }
  },
  "cells": [
    {
      "cell_type": "markdown",
      "metadata": {
        "id": "view-in-github",
        "colab_type": "text"
      },
      "source": [
        "<a href=\"https://colab.research.google.com/github/pedro-de-bastos/CS166-Modeling-Simulation-and-Decision-Making/blob/main/CS166_PCW_Session_19.ipynb\" target=\"_parent\"><img src=\"https://colab.research.google.com/assets/colab-badge.svg\" alt=\"Open In Colab\"/></a>"
      ]
    },
    {
      "cell_type": "code",
      "metadata": {
        "id": "SblqAUezZiCO"
      },
      "source": [
        "import matplotlib.pyplot as plt\r\n",
        "import networkx as nx\r\n",
        "import random as rd\r\n",
        "import numpy as np\r\n",
        "\r\n",
        "def initialize():\r\n",
        "    global g\r\n",
        "    g = nx.karate_club_graph()\r\n",
        "    g.pos = nx.spring_layout(g)\r\n",
        "    for i in g.nodes:\r\n",
        "        g.nodes[i]['state'] = 1 if rd.random() < .5 else 0\r\n",
        "\r\n",
        "def observe():\r\n",
        "    global g\r\n",
        "    cla()\r\n",
        "    nx.draw(g, vmin = 0, vmax = 1,\r\n",
        "            node_color = [g.nodes[i]['state'] for i in g.nodes],\r\n",
        "            pos = g.pos)\r\n",
        "\r\n",
        "def update():\r\n",
        "    global g\r\n",
        "    listener = rd.choice(list(g.nodes))\r\n",
        "    speaker = rd.choice(list(g.neighbors(listener)))\r\n",
        "    g.nodes[listener]['state'] = g.nodes[speaker]['state']\r\n",
        "\r\n",
        "\r\n",
        "def update_reversed():\r\n",
        "    global g\r\n",
        "    speaker = rd.choice(list(g.nodes))\r\n",
        "    listener = rd.choice(list(g.neighbors(speaker)))\r\n",
        "    g.nodes[listener]['state'] = g.nodes[speaker]['state']\r\n",
        "\r\n",
        "def update_edge():\r\n",
        "    global g\r\n",
        "    edge = rd.choice(list(g.edges))\r\n",
        "    speaker = rd.choice(edge)\r\n",
        "    listener = [j for j in edge if j != speaker][0]\r\n",
        "    g.nodes[listener]['state'] = g.nodes[speaker]['state']\r\n",
        "\r\n",
        "\r\n",
        "def ones_zeros(g):\r\n",
        "    ones = 0\r\n",
        "    zeros = 0\r\n",
        "    for i in g.nodes():\r\n",
        "        if g.nodes[i]['state'] == 1:\r\n",
        "            ones += 1\r\n",
        "        else:\r\n",
        "            zeros += 1\r\n",
        "    return ones, zeros\r\n",
        "\r\n",
        "def run_experiment(update):\r\n",
        "    initialize()\r\n",
        "    ones, zeros = ones_zeros(g)\r\n",
        "\r\n",
        "\r\n",
        "    steps = 0\r\n",
        "    while ones != len(g.nodes()) and zeros != len(g.nodes()):\r\n",
        "        ones, zeros = ones_zeros(g)\r\n",
        "        update()\r\n",
        "        steps += 1\r\n",
        "    return steps"
      ],
      "execution_count": 44,
      "outputs": []
    },
    {
      "cell_type": "code",
      "metadata": {
        "colab": {
          "base_uri": "https://localhost:8080/",
          "height": 332
        },
        "id": "IMVS3j_gZwsS",
        "outputId": "9847cc81-5c41-411b-b416-0b9146b7e2a6"
      },
      "source": [
        "results = []\r\n",
        "\r\n",
        "for i in range(200):\r\n",
        "    results.append(run_experiment(update))\r\n",
        "\r\n",
        "plt.hist(results)"
      ],
      "execution_count": 45,
      "outputs": [
        {
          "output_type": "execute_result",
          "data": {
            "text/plain": [
              "(array([105.,  46.,  28.,  13.,   3.,   2.,   2.,   0.,   0.,   1.]),\n",
              " array([  81. ,  410.2,  739.4, 1068.6, 1397.8, 1727. , 2056.2, 2385.4,\n",
              "        2714.6, 3043.8, 3373. ]),\n",
              " <a list of 10 Patch objects>)"
            ]
          },
          "metadata": {
            "tags": []
          },
          "execution_count": 45
        },
        {
          "output_type": "display_data",
          "data": {
            "image/png": "[encoded data removed]",
            "text/plain": [
              "<Figure size 432x288 with 1 Axes>"
            ]
          },
          "metadata": {
            "tags": [],
            "needs_background": "light"
          }
        }
      ]
    },
    {
      "cell_type": "code",
      "metadata": {
        "colab": {
          "base_uri": "https://localhost:8080/",
          "height": 334
        },
        "id": "DznGhYTfbjMp",
        "outputId": "2ca5a9f2-03cb-4479-c9ed-efc8e988a004"
      },
      "source": [
        "results = []\r\n",
        "\r\n",
        "for i in range(200):\r\n",
        "    results.append(run_experiment(update_reversed))\r\n",
        "\r\n",
        "plt.hist(results)"
      ],
      "execution_count": 46,
      "outputs": [
        {
          "output_type": "execute_result",
          "data": {
            "text/plain": [
              "(array([58., 55., 29., 22., 13.,  4., 10.,  6.,  0.,  3.]),\n",
              " array([  128. ,  1602.7,  3077.4,  4552.1,  6026.8,  7501.5,  8976.2,\n",
              "        10450.9, 11925.6, 13400.3, 14875. ]),\n",
              " <a list of 10 Patch objects>)"
            ]
          },
          "metadata": {
            "tags": []
          },
          "execution_count": 46
        },
        {
          "output_type": "display_data",
          "data": {
            "image/png": "[encoded data removed]",
            "text/plain": [
              "<Figure size 432x288 with 1 Axes>"
            ]
          },
          "metadata": {
            "tags": [],
            "needs_background": "light"
          }
        }
      ]
    },
    {
      "cell_type": "code",
      "metadata": {
        "colab": {
          "base_uri": "https://localhost:8080/",
          "height": 332
        },
        "id": "fOGDbsiWcwWs",
        "outputId": "9d755afa-b838-41ec-b5d2-93846f2beb99"
      },
      "source": [
        "results = []\r\n",
        "\r\n",
        "for i in range(200):\r\n",
        "    results.append(run_experiment(update_edge))\r\n",
        "\r\n",
        "plt.hist(results)"
      ],
      "execution_count": 47,
      "outputs": [
        {
          "output_type": "execute_result",
          "data": {
            "text/plain": [
              "(array([78., 70., 22., 20.,  4.,  4.,  0.,  0.,  0.,  2.]),\n",
              " array([ 105. ,  678.5, 1252. , 1825.5, 2399. , 2972.5, 3546. , 4119.5,\n",
              "        4693. , 5266.5, 5840. ]),\n",
              " <a list of 10 Patch objects>)"
            ]
          },
          "metadata": {
            "tags": []
          },
          "execution_count": 47
        },
        {
          "output_type": "display_data",
          "data": {
            "image/png": "[encoded data removed]",
            "text/plain": [
              "<Figure size 432x288 with 1 Axes>"
            ]
          },
          "metadata": {
            "tags": [],
            "needs_background": "light"
          }
        }
      ]
    }
  ]
}