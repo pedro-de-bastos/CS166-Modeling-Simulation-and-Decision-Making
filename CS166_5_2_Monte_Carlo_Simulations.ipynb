{
  "nbformat": 4,
  "nbformat_minor": 0,
  "metadata": {
    "colab": {
      "name": "CS166 5.2: Monte Carlo Simulations.ipynb",
      "provenance": [],
      "authorship_tag": "ABX9TyMMpEkRNb9KiWbBFoj9ctB3",
      "include_colab_link": true
    },
    "kernelspec": {
      "name": "python3",
      "display_name": "Python 3"
    }
  },
  "cells": [
    {
      "cell_type": "markdown",
      "metadata": {
        "id": "view-in-github",
        "colab_type": "text"
      },
      "source": [
        "<a href=\"https://colab.research.google.com/github/pedro-de-bastos/CS166-Modeling-Simulation-and-Decision-Making/blob/main/CS166_5_2_Monte_Carlo_Simulations.ipynb\" target=\"_parent\"><img src=\"https://colab.research.google.com/assets/colab-badge.svg\" alt=\"Open In Colab\"/></a>"
      ]
    },
    {
      "cell_type": "markdown",
      "metadata": {
        "id": "2FJ3VVLvRcNw"
      },
      "source": [
        "# CS166 5.2: Monte Carlo Simulations"
      ]
    },
    {
      "cell_type": "markdown",
      "metadata": {
        "id": "ZwNctuU5QuKr"
      },
      "source": [
        "## Problem 1"
      ]
    },
    {
      "cell_type": "code",
      "metadata": {
        "id": "2ynibZpt4H32"
      },
      "source": [
        "import random\r\n",
        "\r\n",
        "def random_walk():\r\n",
        "  steps = 0\r\n",
        "  traj = []\r\n",
        "\r\n",
        "  for i in range(30):\r\n",
        "    if random.random() > 0.6:\r\n",
        "      steps+=1\r\n",
        "    else:\r\n",
        "      steps-=1\r\n",
        "    traj.append(steps)\r\n",
        "  return traj"
      ],
      "execution_count": null,
      "outputs": []
    },
    {
      "cell_type": "code",
      "metadata": {
        "id": "-m-2GVFt4n7y"
      },
      "source": [
        "results = random_walk()"
      ],
      "execution_count": null,
      "outputs": []
    },
    {
      "cell_type": "code",
      "metadata": {
        "colab": {
          "base_uri": "https://localhost:8080/",
          "height": 282
        },
        "id": "Ut0UwhsM5FN1",
        "outputId": "46af7610-39e9-4523-f6c3-5cea589e9381"
      },
      "source": [
        "import matplotlib.pyplot as plt\r\n",
        "\r\n",
        "plt.plot(range(len(results)), results)"
      ],
      "execution_count": null,
      "outputs": [
        {
          "output_type": "execute_result",
          "data": {
            "text/plain": [
              "[<matplotlib.lines.Line2D at 0x7f0f6a4ffa58>]"
            ]
          },
          "metadata": {
            "tags": []
          },
          "execution_count": 14
        },
        {
          "output_type": "display_data",
          "data": {
            "image/png": "[encoded data removed]",
            "text/plain": [
              "<Figure size 432x288 with 1 Axes>"
            ]
          },
          "metadata": {
            "tags": [],
            "needs_background": "light"
          }
        }
      ]
    },
    {
      "cell_type": "code",
      "metadata": {
        "id": "H97XzTXO48f7"
      },
      "source": [
        "final_pos = []\r\n",
        "\r\n",
        "for i in range(200):\r\n",
        "  results = random_walk()\r\n",
        "  final_pos.append(results[-1])"
      ],
      "execution_count": null,
      "outputs": []
    },
    {
      "cell_type": "code",
      "metadata": {
        "colab": {
          "base_uri": "https://localhost:8080/",
          "height": 298
        },
        "id": "Qiv0_IZ95D93",
        "outputId": "e022558e-1561-42a6-84e4-efe3f773438b"
      },
      "source": [
        "import numpy as np\r\n",
        "plt.hist(final_pos)\r\n",
        "print(\"Mean is:\", np.mean(final_pos))\r\n",
        "print(\"Standard deviation is:\", np.std(final_pos))"
      ],
      "execution_count": null,
      "outputs": [
        {
          "output_type": "stream",
          "text": [
            "Mean is: -6.11\n",
            "Standard deviation is: 5.0643755784894156\n"
          ],
          "name": "stdout"
        },
        {
          "output_type": "display_data",
          "data": {
            "image/png": "[encoded data removed]",
            "text/plain": [
              "<Figure size 432x288 with 1 Axes>"
            ]
          },
          "metadata": {
            "tags": [],
            "needs_background": "light"
          }
        }
      ]
    },
    {
      "cell_type": "markdown",
      "metadata": {
        "id": "n4jELo1h5raa"
      },
      "source": [
        "## Problem 2"
      ]
    },
    {
      "cell_type": "code",
      "metadata": {
        "id": "zRemFuyV5j-l"
      },
      "source": [
        "def gambler_run(t=200, gambler=200, house=2000):\r\n",
        "  gambler_traj = []\r\n",
        "  house_traj = []\r\n",
        "  time = 0\r\n",
        "  while gambler != 0 and house != 0 and time != t:\r\n",
        "    time += 1\r\n",
        "    roll = random.random()\r\n",
        "    if gambler==0 or house==0:\r\n",
        "      return gambler_traj, house_traj\r\n",
        "    if roll > 0.5:\r\n",
        "      gambler += 1\r\n",
        "      gambler_traj.append(gambler)\r\n",
        "      house -= 1\r\n",
        "      house_traj.append(house)\r\n",
        "    else:\r\n",
        "      gambler -= 1\r\n",
        "      gambler_traj.append(gambler)\r\n",
        "      house += 1\r\n",
        "      house_traj.append(house)\r\n",
        "  return gambler_traj, house_traj"
      ],
      "execution_count": null,
      "outputs": []
    },
    {
      "cell_type": "code",
      "metadata": {
        "id": "N9yF8zgRPxnc"
      },
      "source": [
        "gambler_traj, house_traj = gambler_run(t=-1)"
      ],
      "execution_count": null,
      "outputs": []
    },
    {
      "cell_type": "markdown",
      "metadata": {
        "id": "UiV771aBQ12z"
      },
      "source": [
        "### No limit:"
      ]
    },
    {
      "cell_type": "code",
      "metadata": {
        "colab": {
          "base_uri": "https://localhost:8080/",
          "height": 298
        },
        "id": "gZx_ue6TP05h",
        "outputId": "9f509b8f-732c-4e72-b941-699c99ab6c35"
      },
      "source": [
        "plt.plot(range(len(gambler_traj)), gambler_traj, house_traj)"
      ],
      "execution_count": null,
      "outputs": [
        {
          "output_type": "execute_result",
          "data": {
            "text/plain": [
              "[<matplotlib.lines.Line2D at 0x7f0f698fa6d8>,\n",
              " <matplotlib.lines.Line2D at 0x7f0f698fa7f0>]"
            ]
          },
          "metadata": {
            "tags": []
          },
          "execution_count": 35
        },
        {
          "output_type": "display_data",
          "data": {
            "image/png": "[encoded data removed]",
            "text/plain": [
              "<Figure size 432x288 with 1 Axes>"
            ]
          },
          "metadata": {
            "tags": [],
            "needs_background": "light"
          }
        }
      ]
    },
    {
      "cell_type": "markdown",
      "metadata": {
        "id": "Gh3xHt-tQ3-8"
      },
      "source": [
        "### 1000 steps limit:"
      ]
    },
    {
      "cell_type": "code",
      "metadata": {
        "colab": {
          "base_uri": "https://localhost:8080/",
          "height": 298
        },
        "id": "-umwlZafQ6Xl",
        "outputId": "a1a3d6c7-3a93-45e7-c912-d2334e87b1ee"
      },
      "source": [
        "gambler_traj, house_traj = gambler_run(t=1000)\r\n",
        "plt.plot(range(len(gambler_traj)), gambler_traj, house_traj)"
      ],
      "execution_count": null,
      "outputs": [
        {
          "output_type": "execute_result",
          "data": {
            "text/plain": [
              "[<matplotlib.lines.Line2D at 0x7f0f69b47dd8>,\n",
              " <matplotlib.lines.Line2D at 0x7f0f69b47f28>]"
            ]
          },
          "metadata": {
            "tags": []
          },
          "execution_count": 36
        },
        {
          "output_type": "display_data",
          "data": {
            "image/png": "[encoded data removed]",
            "text/plain": [
              "<Figure size 432x288 with 1 Axes>"
            ]
          },
          "metadata": {
            "tags": [],
            "needs_background": "light"
          }
        }
      ]
    },
    {
      "cell_type": "markdown",
      "metadata": {
        "id": "fXPsIlVgRADp"
      },
      "source": [
        "### 200 steps limit:"
      ]
    },
    {
      "cell_type": "code",
      "metadata": {
        "colab": {
          "base_uri": "https://localhost:8080/",
          "height": 298
        },
        "id": "cl3VYFAxRB82",
        "outputId": "b8ec4f7b-abe0-41fd-d569-ad880327dfe4"
      },
      "source": [
        "gambler_traj, house_traj = gambler_run(t=200)\r\n",
        "plt.plot(range(len(gambler_traj)), gambler_traj, house_traj)"
      ],
      "execution_count": null,
      "outputs": [
        {
          "output_type": "execute_result",
          "data": {
            "text/plain": [
              "[<matplotlib.lines.Line2D at 0x7f0f68a12780>,\n",
              " <matplotlib.lines.Line2D at 0x7f0f68a12c50>]"
            ]
          },
          "metadata": {
            "tags": []
          },
          "execution_count": 37
        },
        {
          "output_type": "display_data",
          "data": {
            "image/png": "[encoded data removed]",
            "text/plain": [
              "<Figure size 432x288 with 1 Axes>"
            ]
          },
          "metadata": {
            "tags": [],
            "needs_background": "light"
          }
        }
      ]
    },
    {
      "cell_type": "markdown",
      "metadata": {
        "id": "enX-0O7sRHuh"
      },
      "source": [
        "### 10 steps limit:"
      ]
    },
    {
      "cell_type": "code",
      "metadata": {
        "colab": {
          "base_uri": "https://localhost:8080/",
          "height": 298
        },
        "id": "ZVpYdc3rRD24",
        "outputId": "14155484-936a-4645-eb1d-fc9d258bedfa"
      },
      "source": [
        "gambler_traj, house_traj = gambler_run(t=10)\r\n",
        "plt.plot(range(len(gambler_traj)), gambler_traj, house_traj)"
      ],
      "execution_count": null,
      "outputs": [
        {
          "output_type": "execute_result",
          "data": {
            "text/plain": [
              "[<matplotlib.lines.Line2D at 0x7f0f6a073c18>,\n",
              " <matplotlib.lines.Line2D at 0x7f0f69d55d68>]"
            ]
          },
          "metadata": {
            "tags": []
          },
          "execution_count": 38
        },
        {
          "output_type": "display_data",
          "data": {
            "image/png": "[encoded data removed]",
            "text/plain": [
              "<Figure size 432x288 with 1 Axes>"
            ]
          },
          "metadata": {
            "tags": [],
            "needs_background": "light"
          }
        }
      ]
    }
  ]
}