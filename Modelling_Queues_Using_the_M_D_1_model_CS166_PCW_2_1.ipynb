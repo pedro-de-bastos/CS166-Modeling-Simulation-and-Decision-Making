{
  "nbformat": 4,
  "nbformat_minor": 0,
  "metadata": {
    "colab": {
      "name": "Modelling Queues Using the M/D/1 model: CS166 PCW 2.1.ipynb",
      "provenance": [],
      "authorship_tag": "ABX9TyM2w9CJiqi6v4wR8auGkdpE",
      "include_colab_link": true
    },
    "kernelspec": {
      "name": "python3",
      "display_name": "Python 3"
    }
  },
  "cells": [
    {
      "cell_type": "markdown",
      "metadata": {
        "id": "view-in-github",
        "colab_type": "text"
      },
      "source": [
        "<a href=\"https://colab.research.google.com/github/pedro-de-bastos/CS166-Modeling-Simulation-and-Decision-Making/blob/main/Modelling_Queues_Using_the_M_D_1_model_CS166_PCW_2_1.ipynb\" target=\"_parent\"><img src=\"https://colab.research.google.com/assets/colab-badge.svg\" alt=\"Open In Colab\"/></a>"
      ]
    },
    {
      "cell_type": "markdown",
      "metadata": {
        "id": "MlxMToDScbUV"
      },
      "source": [
        "# Modelling Queues Using the M/D/1 model: CS166 PCW 2.1"
      ]
    },
    {
      "cell_type": "code",
      "metadata": {
        "id": "Mgh4__bLvQOZ"
      },
      "source": [
        "import heapq\r\n",
        "\r\n",
        "class Event:\r\n",
        "    '''\r\n",
        "    Store the properties of one event in the Schedule class defined below. Each\r\n",
        "    event has a time at which it needs to run, a function to call when running\r\n",
        "    the event, along with the arguments and keyword arguments to pass to that\r\n",
        "    function.\r\n",
        "    '''\r\n",
        "    def __init__(self, timestamp, function, *args, **kwargs):\r\n",
        "        self.timestamp = timestamp\r\n",
        "        self.function = function\r\n",
        "        self.args = args\r\n",
        "        self.kwargs = kwargs\r\n",
        "\r\n",
        "    def __lt__(self, other):\r\n",
        "        '''\r\n",
        "        This overloads the less-than operator in Python. We need it so the\r\n",
        "        priority queue knows how to compare two events. We want events with\r\n",
        "        earlier (smaller) times to go first.\r\n",
        "        '''\r\n",
        "        return self.timestamp < other.timestamp\r\n",
        "\r\n",
        "    def run(self, schedule):\r\n",
        "        '''\r\n",
        "        Run an event by calling the function with its arguments and keyword\r\n",
        "        arguments. The first argument to any event function is always the\r\n",
        "        schedule in which events are being tracked. The schedule object can be\r\n",
        "        used to add new events to the priority queue.\r\n",
        "        '''\r\n",
        "        self.function(schedule, *self.args, **self.kwargs)\r\n",
        "\r\n",
        "\r\n",
        "class Schedule:\r\n",
        "    '''\r\n",
        "    Implement an event schedule using a priority queue. You can add events and\r\n",
        "    run the next event.\r\n",
        "    \r\n",
        "    The `now` attribute contains the time at which the last event was run.\r\n",
        "    '''\r\n",
        "    \r\n",
        "    def __init__(self):\r\n",
        "        self.now = 0  # Keep track of the current simulation time\r\n",
        "        self.priority_queue = []  # The priority queue of events to run\r\n",
        "    \r\n",
        "    def add_event_at(self, timestamp, function, *args, **kwargs):\r\n",
        "        # Add an event to the schedule at a particular point in time.\r\n",
        "        heapq.heappush(\r\n",
        "            self.priority_queue,\r\n",
        "            Event(timestamp, function, *args, **kwargs))\r\n",
        "    \r\n",
        "    def add_event_after(self, interval, function, *args, **kwargs):\r\n",
        "        # Add an event to the schedule after a specified time interval.\r\n",
        "        self.add_event_at(self.now + interval, function, *args, **kwargs)\r\n",
        "    \r\n",
        "    def next_event_time(self):\r\n",
        "        # Return the time of the next event. The `now` attribute of this class\r\n",
        "        # contain the time of the last event that was run.\r\n",
        "        return self.priority_queue[0].timestamp\r\n",
        "\r\n",
        "    def run_next_event(self):\r\n",
        "        # Get the next event from the priority queue and run it.\r\n",
        "        event = heapq.heappop(self.priority_queue)\r\n",
        "        self.now = event.timestamp\r\n",
        "        event.run(self)\r\n",
        "        \r\n",
        "    def __repr__(self):\r\n",
        "        return (\r\n",
        "            f'Schedule() at time {self.now} ' +\r\n",
        "            f'with {len(self.priority_queue)} events in the queue')\r\n",
        "    \r\n",
        "    def print_events(self):\r\n",
        "        # Print out diagnostic information about the events in the schedule.\r\n",
        "        print(repr(self))\r\n",
        "        for event in sorted(self.priority_queue):\r\n",
        "            print(f'   {event.timestamp}: {event.function.__name__}')"
      ],
      "execution_count": 10,
      "outputs": []
    },
    {
      "cell_type": "code",
      "metadata": {
        "id": "-BrNEYk_AA28"
      },
      "source": [
        "class Queue:\r\n",
        "  def __init__(self):\r\n",
        "    self.customers = 0\r\n",
        "    self.arrival_rate = 5\r\n",
        "    self.departure_rate = 7\r\n",
        "\r\n",
        "  def arrival(self, schedule):\r\n",
        "    self.customers += 1\r\n",
        "\r\n",
        "    arrival_time = sts.expon.rvs(self.arrival_rate)\r\n",
        "    print(f\"Customer arrived at time {schedule.now + arrival_time}\")\r\n",
        "    schedule.add_event_after(arrival_time, self.arrival)\r\n",
        "    schedule.add_event_after(self.departure_rate, self.departure)\r\n",
        "\r\n",
        "  def departure(self, schedule):\r\n",
        "    self.customers -= 1\r\n",
        "\r\n",
        "    print(f\"Customer departed at time {schedule.now + self.departure_rate}\")\r\n",
        "\r\n",
        "  def run(self, schedule):\r\n",
        "    self.arrival(schedule)\r\n",
        "\r\n"
      ],
      "execution_count": 23,
      "outputs": []
    },
    {
      "cell_type": "code",
      "metadata": {
        "id": "blDD_YFgBlcy"
      },
      "source": [
        "import scipy.stats as sts"
      ],
      "execution_count": 24,
      "outputs": []
    },
    {
      "cell_type": "code",
      "metadata": {
        "id": "93MNS988Bnh5"
      },
      "source": [
        "def run_simulation(run_until):\r\n",
        "    schedule = Schedule()\r\n",
        "    queue = Queue()\r\n",
        "    queue.run(schedule)\r\n",
        "    while schedule.next_event_time() <= run_until:\r\n",
        "        schedule.run_next_event()\r\n",
        "    return queue"
      ],
      "execution_count": 28,
      "outputs": []
    },
    {
      "cell_type": "code",
      "metadata": {
        "colab": {
          "base_uri": "https://localhost:8080/"
        },
        "id": "rAN-miX1bQ5f",
        "outputId": "37268d34-8a4c-4fc7-ca51-2b53c3bdc0e7"
      },
      "source": [
        "queue = run_simulation(100)"
      ],
      "execution_count": 30,
      "outputs": [
        {
          "output_type": "stream",
          "text": [
            "Customer arrived at time 8.30927626308319\n",
            "Customer departed at time 14\n",
            "Customer arrived at time 13.536585698369876\n",
            "Customer arrived at time 18.690741588348658\n",
            "Customer departed at time 22.30927626308319\n",
            "Customer arrived at time 23.964460517487435\n",
            "Customer departed at time 27.536585698369876\n",
            "Customer arrived at time 29.400401613161087\n",
            "Customer departed at time 32.69074158834866\n",
            "Customer arrived at time 37.64114853629144\n",
            "Customer departed at time 37.96446051748744\n",
            "Customer departed at time 43.40040161316109\n",
            "Customer arrived at time 43.28535892166482\n",
            "Customer arrived at time 48.31070143530498\n",
            "Customer departed at time 51.64114853629144\n",
            "Customer arrived at time 56.677999720804905\n",
            "Customer departed at time 57.28535892166482\n",
            "Customer departed at time 62.31070143530498\n",
            "Customer arrived at time 63.513890174396394\n",
            "Customer arrived at time 68.91776442058065\n",
            "Customer departed at time 70.6779997208049\n",
            "Customer arrived at time 75.7170028242923\n",
            "Customer departed at time 77.5138901743964\n",
            "Customer arrived at time 80.94419648743464\n",
            "Customer departed at time 82.91776442058065\n",
            "Customer arrived at time 86.35180007838174\n",
            "Customer departed at time 89.7170028242923\n",
            "Customer arrived at time 91.51761400789839\n",
            "Customer departed at time 94.94419648743464\n",
            "Customer arrived at time 96.79040880192349\n",
            "Customer departed at time 100.35180007838174\n",
            "Customer arrived at time 101.98439764236859\n",
            "Customer departed at time 105.51761400789839\n"
          ],
          "name": "stdout"
        }
      ]
    }
  ]
}