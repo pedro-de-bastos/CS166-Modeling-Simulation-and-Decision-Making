{
  "nbformat": 4,
  "nbformat_minor": 0,
  "metadata": {
    "kernelspec": {
      "display_name": "Python 3",
      "language": "python",
      "name": "python3"
    },
    "language_info": {
      "codemirror_mode": {
        "name": "ipython",
        "version": 3
      },
      "file_extension": ".py",
      "mimetype": "text/x-python",
      "name": "python",
      "nbconvert_exporter": "python",
      "pygments_lexer": "ipython3",
      "version": "3.8.3"
    },
    "colab": {
      "name": "Empirical_Analysis_of_Simulations_CS166_PCW_2.2.ipynb",
      "provenance": [],
      "include_colab_link": true
    }
  },
  "cells": [
    {
      "cell_type": "markdown",
      "metadata": {
        "id": "view-in-github",
        "colab_type": "text"
      },
      "source": [
        "<a href=\"https://colab.research.google.com/github/pedro-de-bastos/CS166-Modeling-Simulation-and-Decision-Making/blob/main/Empirical_Analysis_of_Simulations_CS166_PCW_2_2.ipynb\" target=\"_parent\"><img src=\"https://colab.research.google.com/assets/colab-badge.svg\" alt=\"Open In Colab\"/></a>"
      ]
    },
    {
      "cell_type": "markdown",
      "metadata": {
        "id": "ZPYT-U5bSyNU"
      },
      "source": [
        "# Investigating Queue Length Based On Arrival Rate: Empirical Analysis of Simulations"
      ]
    },
    {
      "cell_type": "code",
      "metadata": {
        "id": "t-vNtbhtHso7"
      },
      "source": [
        "import heapq\n",
        "import numpy as np\n",
        "import matplotlib.pyplot as plt\n",
        "\n",
        "class Event:\n",
        "    '''\n",
        "    Store the properties of one event in the Schedule class defined below. Each\n",
        "    event has a time at which it needs to run, a function to call when running\n",
        "    the event, along with the arguments and keyword arguments to pass to that\n",
        "    function.\n",
        "    '''\n",
        "    def __init__(self, timestamp, function, *args, **kwargs):\n",
        "        self.timestamp = timestamp\n",
        "        self.function = function\n",
        "        self.args = args\n",
        "        self.kwargs = kwargs\n",
        "\n",
        "    def __lt__(self, other):\n",
        "        '''\n",
        "        This overloads the less-than operator in Python. We need it so the\n",
        "        priority queue knows how to compare two events. We want events with\n",
        "        earlier (smaller) times to go first.\n",
        "        '''\n",
        "        return self.timestamp < other.timestamp\n",
        "\n",
        "    def run(self, schedule):\n",
        "        '''\n",
        "        Run an event by calling the function with its arguments and keyword\n",
        "        arguments. The first argument to any event function is always the\n",
        "        schedule in which events are being tracked. The schedule object can be\n",
        "        used to add new events to the priority queue.\n",
        "        '''\n",
        "        self.function(schedule, *self.args, **self.kwargs)\n",
        "\n",
        "\n",
        "class Schedule:\n",
        "    '''\n",
        "    Implement an event schedule using a priority queue. You can add events and\n",
        "    run the next event.\n",
        "    \n",
        "    The `now` attribute contains the time at which the last event was run.\n",
        "    '''\n",
        "    \n",
        "    def __init__(self):\n",
        "        self.now = 0  # Keep track of the current simulation time\n",
        "        self.priority_queue = []  # The priority queue of events to run\n",
        "    \n",
        "    def add_event_at(self, timestamp, function, *args, **kwargs):\n",
        "        # Add an event to the schedule at a particular point in time.\n",
        "        heapq.heappush(\n",
        "            self.priority_queue,\n",
        "            Event(timestamp, function, *args, **kwargs))\n",
        "    \n",
        "    def add_event_after(self, interval, function, *args, **kwargs):\n",
        "        # Add an event to the schedule after a specified time interval.\n",
        "        self.add_event_at(self.now + interval, function, *args, **kwargs)\n",
        "    \n",
        "    def next_event_time(self):\n",
        "        return self.priority_queue[0].timestamp\n",
        "\n",
        "    def run_next_event(self):\n",
        "        # Get the next event from the priority queue and run it.\n",
        "        event = heapq.heappop(self.priority_queue)\n",
        "        self.now = event.timestamp\n",
        "        event.run(self)\n",
        "        \n",
        "    def __repr__(self):\n",
        "        return (\n",
        "            f'Schedule() at time {self.now} ' +\n",
        "            f'with {len(self.priority_queue)} events in the queue')\n",
        "    \n",
        "    def print_events(self):\n",
        "        print(repr(self))\n",
        "        for event in sorted(self.priority_queue):\n",
        "            print(f'   {event.timestamp}: {event.function.__name__}')\n"
      ],
      "execution_count": 1,
      "outputs": []
    },
    {
      "cell_type": "code",
      "metadata": {
        "id": "2HmeXqlLHspE"
      },
      "source": [
        "# M/D/1 queue\n",
        "import scipy.stats as sts\n",
        "\n",
        "\n",
        "class Queue:\n",
        "    def __init__(self, service_rate):\n",
        "        # Store the deterministic service time for an M/D/1 queue\n",
        "        self.service_time = 1 / service_rate\n",
        "        # We start with an empty queue and the server not busy\n",
        "        self.people_in_queue = 0\n",
        "        self.people_being_served = 0\n",
        "\n",
        "    def add_customer(self, schedule):\n",
        "        # Add the customer to the queue\n",
        "        self.people_in_queue += 1\n",
        "        if self.people_being_served < 1:\n",
        "            # This customer can be served immediately\n",
        "            schedule.add_event_after(0, self.start_serving_customer)\n",
        "            \n",
        "    def start_serving_customer(self, schedule):\n",
        "        # Move the customer from the queue to a server\n",
        "        self.people_in_queue -= 1\n",
        "        self.people_being_served += 1\n",
        "        # Schedule when the server will be done with the customer\n",
        "        schedule.add_event_after(\n",
        "            self.service_time,\n",
        "            self.finish_serving_customer)\n",
        "            \n",
        "    def finish_serving_customer(self, schedule):\n",
        "        # Remove the customer from the server\n",
        "        self.people_being_served -= 1\n",
        "        if self.people_in_queue > 0:\n",
        "            # There are more people in the queue so serve the next customer\n",
        "            schedule.add_event_after(0, self.start_serving_customer)\n",
        "\n",
        "\n",
        "class GroceryStore:\n",
        "    \n",
        "    def __init__(self, arrival_rate, service_rate):\n",
        "        self.queue = Queue(service_rate)\n",
        "        self.arrival_distribution = sts.expon(scale=1/arrival_rate)\n",
        "\n",
        "    def add_customer(self, schedule):\n",
        "        # Add this customer to the queue\n",
        "        self.queue.add_customer(schedule)\n",
        "        # Schedule when to add another customer\n",
        "        schedule.add_event_after(\n",
        "            self.arrival_distribution.rvs(),\n",
        "            self.add_customer)\n",
        "\n",
        "    def run(self, schedule):\n",
        "        # Schedule when the first customer arrives\n",
        "        schedule.add_event_after(\n",
        "            self.arrival_distribution.rvs(),\n",
        "            self.add_customer)\n",
        "        \n",
        "\n",
        "def run_simulation(arrival_rate, service_rate, run_until):\n",
        "    schedule = Schedule()\n",
        "    grocery_store = GroceryStore(arrival_rate, service_rate)\n",
        "    grocery_store.run(schedule)\n",
        "    while schedule.next_event_time() < run_until:\n",
        "        schedule.run_next_event()\n",
        "    return grocery_store"
      ],
      "execution_count": 2,
      "outputs": []
    },
    {
      "cell_type": "markdown",
      "metadata": {
        "id": "6F2p2migKq3v"
      },
      "source": [
        "# Helper Functions"
      ]
    },
    {
      "cell_type": "code",
      "metadata": {
        "id": "oWLwbc8aIR7q"
      },
      "source": [
        "def run_experiment(trials, arrival_rate, service_rate):\r\n",
        "  result = [\"\" for i in range(trials)]\r\n",
        "\r\n",
        "  for i in range(trials):\r\n",
        "    grocery_store = run_simulation(arrival_rate=arrival_rate, service_rate=1, run_until=100)\r\n",
        "    result[i] = grocery_store.queue.people_in_queue\r\n",
        "\r\n",
        "  return result"
      ],
      "execution_count": 42,
      "outputs": []
    },
    {
      "cell_type": "code",
      "metadata": {
        "id": "bNO_84QcIz0Z"
      },
      "source": [
        "def compute_stats(result):\r\n",
        "  mean = np.mean(result)\r\n",
        "  lower_bound = mean-1.96*(np.std(result)/len(result))\r\n",
        "  upper_bound = mean+1.96*(np.std(result)/len(result))\r\n",
        "\r\n",
        "  #print(f\"Your mean is:{mean}, with a 95% confidence lower bound of {lower_bound} and upper bound of {upper_bound}\")\r\n",
        "  return {\"mean\":mean, \"lower_bound\":lower_bound, 'upper_bound':upper_bound}"
      ],
      "execution_count": 44,
      "outputs": []
    },
    {
      "cell_type": "markdown",
      "metadata": {
        "id": "lNMyd8SaKt28"
      },
      "source": [
        "# 100 Trials Experiment"
      ]
    },
    {
      "cell_type": "code",
      "metadata": {
        "colab": {
          "base_uri": "https://localhost:8080/",
          "height": 295
        },
        "id": "WtxydPM-IqLs",
        "outputId": "4afa7cc7-3204-43d9-919f-2596fef50343"
      },
      "source": [
        "import matplotlib.pyplot as plt\r\n",
        "\r\n",
        "result_100 = run_experiment(100, 0.8, 1)\r\n",
        "\r\n",
        "plt.hist(result_100)\r\n",
        "plt.title('Figure 1: Distribution of Queue Length with 100 Trials')\r\n",
        "plt.xlabel('Queue Length')\r\n",
        "plt.ylabel(\"Frequency\")\r\n",
        "plt.show()"
      ],
      "execution_count": 38,
      "outputs": [
        {
          "output_type": "display_data",
          "data": {
            "image/png": "[encoded data removed]",
            "text/plain": [
              "<Figure size 432x288 with 1 Axes>"
            ]
          },
          "metadata": {
            "tags": [],
            "needs_background": "light"
          }
        }
      ]
    },
    {
      "cell_type": "code",
      "metadata": {
        "colab": {
          "base_uri": "https://localhost:8080/"
        },
        "id": "YuDXyiIXKYEE",
        "outputId": "10b102c2-3c57-40a1-9591-75bbf0b3be30"
      },
      "source": [
        "stats_100 = compute_stats(result_100)\r\n",
        "stats_100['upper_bound']-stats_100['lower_bound']"
      ],
      "execution_count": 35,
      "outputs": [
        {
          "output_type": "stream",
          "text": [
            "Your mean is:1.25, with a 95% confidence lower bound of 1.2129798595356527 and upper bound of 1.2870201404643473\n"
          ],
          "name": "stdout"
        },
        {
          "output_type": "execute_result",
          "data": {
            "text/plain": [
              "0.07404028092869464"
            ]
          },
          "metadata": {
            "tags": []
          },
          "execution_count": 35
        }
      ]
    },
    {
      "cell_type": "markdown",
      "metadata": {
        "id": "llVURusjK7GE"
      },
      "source": [
        "# 1000 Trials Experiment"
      ]
    },
    {
      "cell_type": "code",
      "metadata": {
        "colab": {
          "base_uri": "https://localhost:8080/",
          "height": 332
        },
        "id": "4jv7CJu5K8kh",
        "outputId": "6c88cfab-b6a7-4810-8f12-035f5d82a40f"
      },
      "source": [
        "result_1000 = run_experiment(1000, 0.8, 1)\r\n",
        "\r\n",
        "plt.hist(result_1000)\r\n",
        "plt.title('Figure 2: Distribution of Queue Length with 1000 Trials')\r\n",
        "plt.xlabel('Queue Length')\r\n",
        "plt.ylabel(\"Frequency\")\r\n",
        "plt.show()"
      ],
      "execution_count": 34,
      "outputs": [
        {
          "output_type": "stream",
          "text": [
            "Your mean is:1.655, with a 95% confidence lower bound of 1.65058674542316 and upper bound of 1.65941325457684\n"
          ],
          "name": "stdout"
        },
        {
          "output_type": "display_data",
          "data": {
            "image/png": "[encoded data removed]",
            "text/plain": [
              "<Figure size 432x288 with 1 Axes>"
            ]
          },
          "metadata": {
            "tags": [],
            "needs_background": "light"
          }
        }
      ]
    },
    {
      "cell_type": "code",
      "metadata": {
        "colab": {
          "base_uri": "https://localhost:8080/"
        },
        "id": "hYa9oX3mNGWV",
        "outputId": "df8550f9-21c7-4b43-8c5c-89dc26abd335"
      },
      "source": [
        "stats_1000 = compute_stats(result_1000)\r\n",
        "stats_1000['upper_bound']-stats_1000['lower_bound']"
      ],
      "execution_count": 36,
      "outputs": [
        {
          "output_type": "stream",
          "text": [
            "Your mean is:1.655, with a 95% confidence lower bound of 1.65058674542316 and upper bound of 1.65941325457684\n"
          ],
          "name": "stdout"
        },
        {
          "output_type": "execute_result",
          "data": {
            "text/plain": [
              "0.008826509153680107"
            ]
          },
          "metadata": {
            "tags": []
          },
          "execution_count": 36
        }
      ]
    },
    {
      "cell_type": "markdown",
      "metadata": {
        "id": "y8v4uNcwLahS"
      },
      "source": [
        "# Distribution and Confidence Intervals Comparisson"
      ]
    },
    {
      "cell_type": "markdown",
      "metadata": {
        "id": "Y0ddihL3Leuw"
      },
      "source": [
        "## Distribution\r\n",
        "\r\n",
        "First let us consider how the two figures above have changed. Figure 1 shows a 'fatter' tail: we have events of large queue lengths more frequently, whereas figure 2 shows that most events are around 0. Whereas both distributions resemble an exponential distribution, the exponential distribution of figure 2 (1000 trials) shows a sharper decrease in frequency from near 0 queue length to large queue lengths."
      ]
    },
    {
      "cell_type": "markdown",
      "metadata": {
        "id": "n6WzXMH1MY2u"
      },
      "source": [
        "## Means and Confidence Intervals\r\n",
        "\r\n",
        "Not surprisingly, considering the distributions, the mean queue length of the 100 trial experiment is smaller (approx. 1.9) than the mean of the 1000 trial experiment (approx. 1.66). Furthermore, we have that the 95% interval for the 100 trial experiment is much wider (0.07) than for the 1000 trial experiment (0.008). This is unsurprising because the sample size in the latter is much larger, which intuitively should give us more confidence about our mean estimate, and mathematically holds true because $\\text{Standard Error} = \\frac{s}{\\sqrt{n}}$, where the standard error multiplied by the zscore tells us the intervals, $s$ is the standard deviation, and $n$ is the sample size. This means that the standard error is inversely proportional to the square root of the sample size (the larger the sample size, the smaller the standard error)."
      ]
    },
    {
      "cell_type": "markdown",
      "metadata": {
        "id": "G59a3B54OZ62"
      },
      "source": [
        "# When Does the Queue Length Exceed 5 People?"
      ]
    },
    {
      "cell_type": "code",
      "metadata": {
        "id": "gQoDU3yJOpJp"
      },
      "source": [
        "xs = np.linspace(0.8, 1, num = 30)\r\n",
        "stats = [\"\" for i in range(len(xs))]\r\n",
        "\r\n",
        "for i, j in enumerate(xs):\r\n",
        "  results = run_experiment(100, j, 1)\r\n",
        "  stats[i] = compute_stats(results)"
      ],
      "execution_count": 51,
      "outputs": []
    },
    {
      "cell_type": "code",
      "metadata": {
        "colab": {
          "base_uri": "https://localhost:8080/",
          "height": 424
        },
        "id": "7rGI_j-MQhVw",
        "outputId": "281f52b1-6b1f-4b6e-b9b8-8b72b3cbb55e"
      },
      "source": [
        "means = [i['mean'] for i in stats]\r\n",
        "lbs = [i['lower_bound'] for i in stats]\r\n",
        "errors = np.asarray(means)-np.asarray(lbs)\r\n",
        "\r\n",
        "plt.figure(figsize=(16, 10))\r\n",
        "plt.errorbar(xs, means, errors, color = 'black', marker='o', capsize=5, linestyle='--', linewidth=1)\r\n",
        "plt.axhline(5, label=\"Queue Length = 5\")\r\n",
        "plt.title(\"Figure 3: Queue Length According to Arrival Rate\")\r\n",
        "plt.xlabel(\"Arrival Rate in Persons per Minute\")\r\n",
        "plt.ylabel(\"Average Queue Length\")\r\n",
        "plt.legend()\r\n",
        "plt.show()"
      ],
      "execution_count": 57,
      "outputs": [
        {
          "output_type": "display_data",
          "data": {
            "image/png": "[encoded data removed]",
            "text/plain": [
              "<Figure size 1152x720 with 1 Axes>"
            ]
          },
          "metadata": {
            "tags": [],
            "needs_background": "light"
          }
        }
      ]
    },
    {
      "cell_type": "markdown",
      "metadata": {
        "id": "26VFVjGZTES5"
      },
      "source": [
        "According to our graph, it seems that somewhere between arrival rates 0.925 and 0.95 our queue crossed the 5 person boundary. Notice, however, that there is some jagged volatility in our results, and that it is entirely possible that a slightly smaller arrival rate may produce a larger-than-5-person queue on random chance."
      ]
    },
    {
      "cell_type": "markdown",
      "metadata": {
        "id": "VTvLcaQmS9UJ"
      },
      "source": [
        "# Reflection"
      ]
    },
    {
      "cell_type": "markdown",
      "metadata": {
        "id": "4zEp3duJTBvc"
      },
      "source": [
        "In this exercise, we looked at how we might use empirical statistics (the mean and confidence intervals of the mean) to analyze and predict patterns in our data. We showed that, according to our simulation, we expect queues with more than 5 people after an arrival rate of around 0.925 people per minute. We presented this data graphically, and discussed the effects of using more trials per experiment (i.e. for each different arrival rate, we ran the experiment multiple times to have a strong understanding of what the mean looks like).\r\n",
        "\r\n",
        "The graphs above presented had all the standard requirements like labels and titles. In addition, I made them perception-friendly by minimizing the amount of extraneous information, using a lot of white space, and making sure that the elements like error bars were easy to discern."
      ]
    }
  ]
}