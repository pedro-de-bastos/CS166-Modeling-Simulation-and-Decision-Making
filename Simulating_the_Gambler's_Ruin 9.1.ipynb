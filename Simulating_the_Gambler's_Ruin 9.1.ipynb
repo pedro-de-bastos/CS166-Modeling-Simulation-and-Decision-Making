{
  "nbformat": 4,
  "nbformat_minor": 0,
  "metadata": {
    "colab": {
      "name": "Simulating the Gambler's Ruin.ipynb",
      "provenance": [],
      "authorship_tag": "ABX9TyOodrakpcut6cH+ce7dbNXB",
      "include_colab_link": true
    },
    "kernelspec": {
      "name": "python3",
      "display_name": "Python 3"
    }
  },
  "cells": [
    {
      "cell_type": "markdown",
      "metadata": {
        "id": "view-in-github",
        "colab_type": "text"
      },
      "source": [
        "<a href=\"https://colab.research.google.com/github/pedro-de-bastos/CS166-Modeling-Simulation-and-Decision-Making/blob/main/Simulating_the_Gambler's_Ruin%209.1.ipynb\" target=\"_parent\"><img src=\"https://colab.research.google.com/assets/colab-badge.svg\" alt=\"Open In Colab\"/></a>"
      ]
    },
    {
      "cell_type": "markdown",
      "metadata": {
        "id": "-34dsUjImtm6"
      },
      "source": [
        "# Simulating the Gambler's Ruin"
      ]
    },
    {
      "cell_type": "code",
      "metadata": {
        "colab": {
          "base_uri": "https://localhost:8080/"
        },
        "id": "DqjHK-opcT_x",
        "outputId": "9891f41c-12fe-4e5c-f84b-93a4c189f777"
      },
      "source": [
        "import numpy as np\r\n",
        "\r\n",
        "test = np.random.random()>0.6\r\n",
        "if test == True:\r\n",
        "  print('tails')\r\n",
        "else:\r\n",
        "  print('heads')"
      ],
      "execution_count": 25,
      "outputs": [
        {
          "output_type": "stream",
          "text": [
            "heads\n"
          ],
          "name": "stdout"
        }
      ]
    },
    {
      "cell_type": "code",
      "metadata": {
        "id": "9TW0LP5Cc6Su"
      },
      "source": [
        "def gamblers_ruin_1(turns, bet_amount, start_sum):\r\n",
        "  coin_tosses = np.random.choice(['heads', 'tails'], p=[0.6, 0.4], size=(turns))\r\n",
        "  coin_choices = np.random.choice(['heads', 'tails'], p=[0.6, 0.4], size=(turns))\r\n",
        "  results = coin_tosses==coin_choices\r\n",
        "\r\n",
        "  return start_sum + np.sum(results)*bet_amount - (turns  - np.sum(results))*bet_amount\r\n",
        "\r\n",
        "def gamblers_ruin_2(turns, budget):\r\n",
        "  coin_tosses = np.random.choice(['heads', 'tails'], p=[0.6, 0.4], size=(turns))\r\n",
        "  \r\n",
        "  for i in coin_tosses:\r\n",
        "    if i == 'heads':\r\n",
        "      budget += budget*0.5\r\n",
        "    else:\r\n",
        "      budget -= budget*0.5\r\n",
        "\r\n",
        "  return budget\r\n",
        "\r\n",
        "def gamblers_ruin_3(turns, budget):\r\n",
        "  coin_tosses = np.random.choice(['heads', 'tails'], p=[0.6, 0.4], size=(turns))\r\n",
        "  \r\n",
        "  head_counter = 0\r\n",
        "  for i in coin_tosses:\r\n",
        "    head_counter +=1\r\n",
        "    if head_counter < turns*0.6:\r\n",
        "      if i == 'heads':\r\n",
        "        budget += budget*0.5\r\n",
        "      else:\r\n",
        "        budget -= budget*0.5\r\n",
        "    else:\r\n",
        "      if i == 'heads':\r\n",
        "        budget -= budget*0.5\r\n",
        "      else:\r\n",
        "        budget += budget*0.5\r\n",
        "\r\n",
        "  return budget\r\n",
        "\r\n",
        "\r\n",
        "sims_1 = [gamblers_ruin_1(20, 12.5, 250) for i in range(1000)]\r\n",
        "sims_2 = [gamblers_ruin_2(20, 250) for i in range(1000)]\r\n",
        "sims_3 = [gamblers_ruin_3(20, 250) for i in range(1000)]"
      ],
      "execution_count": 102,
      "outputs": []
    },
    {
      "cell_type": "code",
      "metadata": {
        "colab": {
          "base_uri": "https://localhost:8080/",
          "height": 298
        },
        "id": "IhOfhihcfo1e",
        "outputId": "0a812a9b-0edf-4523-bde7-7f8e389c1daa"
      },
      "source": [
        "import matplotlib.pyplot as plt\r\n",
        "plt.hist(sims_1)\r\n",
        "\r\n",
        "intervals = np.quantile(sims_1, q=(0.025, 0.975))\r\n",
        "\r\n",
        "plt.axvline(x=intervals[0], ls=\"--\", color = \"yellow\")\r\n",
        "plt.axvline(x=intervals[1], ls=\"--\", color=\"yellow\")\r\n",
        "print(f\"Your mean outcome was {np.mean(sims_1)}.\")\r\n",
        "print(f\"Your 95% conf int was {intervals}.\")"
      ],
      "execution_count": 84,
      "outputs": [
        {
          "output_type": "stream",
          "text": [
            "Your mean outcome was 261.125.\n",
            "Your 95% conf int was [150. 375.].\n"
          ],
          "name": "stdout"
        },
        {
          "output_type": "display_data",
          "data": {
            "image/png": "[encoded data removed]",
            "text/plain": [
              "<Figure size 432x288 with 1 Axes>"
            ]
          },
          "metadata": {
            "tags": [],
            "needs_background": "light"
          }
        }
      ]
    },
    {
      "cell_type": "code",
      "metadata": {
        "colab": {
          "base_uri": "https://localhost:8080/",
          "height": 315
        },
        "id": "aRRgsORKiX03",
        "outputId": "8611e17e-b122-4086-bc44-1dbaa5565c71"
      },
      "source": [
        "plt.hist(sims_2)\r\n",
        "intervals = np.quantile(sims_2, q=(0.025, 0.975))\r\n",
        "\r\n",
        "plt.axvline(x=intervals[0], ls=\"--\", color = \"yellow\")\r\n",
        "plt.axvline(x=intervals[1], ls=\"--\", color=\"yellow\")\r\n",
        "print(f\"Your mean outcome was {np.mean(sims_2)}.\")\r\n",
        "print(f\"Your median outcome was {np.median(sims_2)}.\")\r\n",
        "print(f\"Your 95% conf int was {intervals}.\")"
      ],
      "execution_count": 103,
      "outputs": [
        {
          "output_type": "stream",
          "text": [
            "Your mean outcome was 1939.0783610343933.\n",
            "Your median outcome was 126.70540809631348.\n",
            "Your 95% conf int was [5.21421432e-01 1.02631381e+04].\n"
          ],
          "name": "stdout"
        },
        {
          "output_type": "display_data",
          "data": {
            "image/png": "[encoded data removed]",
            "text/plain": [
              "<Figure size 432x288 with 1 Axes>"
            ]
          },
          "metadata": {
            "tags": [],
            "needs_background": "light"
          }
        }
      ]
    },
    {
      "cell_type": "code",
      "metadata": {
        "colab": {
          "base_uri": "https://localhost:8080/",
          "height": 298
        },
        "id": "rmFOlrzaie9O",
        "outputId": "43b78a8b-1d1a-4a22-c4b7-244e6b315e61"
      },
      "source": [
        "plt.hist(sims_3)\r\n",
        "intervals = np.quantile(sims_3, q=(0.025, 0.975))\r\n",
        "\r\n",
        "plt.axvline(x=intervals[0], ls=\"--\", color = \"yellow\")\r\n",
        "plt.axvline(x=intervals[1], ls=\"--\", color=\"yellow\")\r\n",
        "print(f\"Your mean outcome was {np.mean(sims_3)}.\")\r\n",
        "print(f\"Your 95% conf int was {intervals}.\")"
      ],
      "execution_count": 97,
      "outputs": [
        {
          "output_type": "stream",
          "text": [
            "Your mean outcome was 263.7008171081543.\n",
            "Your 95% conf int was [1.73807144e-01 1.14034867e+03].\n"
          ],
          "name": "stdout"
        },
        {
          "output_type": "display_data",
          "data": {
            "image/png": "[encoded data removed]",
            "text/plain": [
              "<Figure size 432x288 with 1 Axes>"
            ]
          },
          "metadata": {
            "tags": [],
            "needs_background": "light"
          }
        }
      ]
    },
    {
      "cell_type": "code",
      "metadata": {
        "colab": {
          "base_uri": "https://localhost:8080/"
        },
        "id": "NyuPh4kzkSGo",
        "outputId": "b526e89c-6c82-4d9e-c018-5fbf8a92e0ea"
      },
      "source": [
        "2135.76/2"
      ],
      "execution_count": 92,
      "outputs": [
        {
          "output_type": "execute_result",
          "data": {
            "text/plain": [
              "1067.88"
            ]
          },
          "metadata": {
            "tags": []
          },
          "execution_count": 92
        }
      ]
    },
    {
      "cell_type": "code",
      "metadata": {
        "id": "b2Gh0fsPkTLB"
      },
      "source": [
        ""
      ],
      "execution_count": null,
      "outputs": []
    }
  ]
}