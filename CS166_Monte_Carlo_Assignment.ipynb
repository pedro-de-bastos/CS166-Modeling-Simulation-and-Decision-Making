{
  "nbformat": 4,
  "nbformat_minor": 0,
  "metadata": {
    "colab": {
      "name": "CS166 Monte Carlo Assignment.ipynb",
      "provenance": [],
      "authorship_tag": "ABX9TyOGsHI7mcwHsvrrk3ppWlbo",
      "include_colab_link": true
    },
    "kernelspec": {
      "name": "python3",
      "display_name": "Python 3"
    }
  },
  "cells": [
    {
      "cell_type": "markdown",
      "metadata": {
        "id": "view-in-github",
        "colab_type": "text"
      },
      "source": [
        "<a href=\"https://colab.research.google.com/github/pedro-de-bastos/CS166-Modeling-Simulation-and-Decision-Making/blob/main/CS166_Monte_Carlo_Assignment.ipynb\" target=\"_parent\"><img src=\"https://colab.research.google.com/assets/colab-badge.svg\" alt=\"Open In Colab\"/></a>"
      ]
    },
    {
      "cell_type": "markdown",
      "metadata": {
        "id": "ElECreTDIKz8"
      },
      "source": [
        "# Codebook: Exploring Monte Carlo Simulations\r\n",
        "Pedro Martins de Bastos"
      ]
    },
    {
      "cell_type": "markdown",
      "metadata": {
        "id": "u7LKcO82AIGs"
      },
      "source": [
        "#Q1"
      ]
    },
    {
      "cell_type": "code",
      "metadata": {
        "id": "agAo5CQq_dW1"
      },
      "source": [
        "import numpy as np\r\n",
        "\r\n",
        "def estimate_pi(trials): #this function takes in the number of trials, and outputs both the estimate for pi and the error (compared to numpy's pi)\r\n",
        "  L = 2\r\n",
        "  theta = np.random.uniform(low=0, high=1/2*np.pi, size=trials) #I compute a value for theta bounded by 0 and 90 degrees, as specified by the model, from a uniform distribution\r\n",
        "  x = np.random.uniform(0, L, size=trials) #computing a value for how far away the center of the needle falls from the closes line!\r\n",
        "  test = 1/2*L*np.sin(theta) #creating the value to test against x\r\n",
        "  pi = 1/np.mean(x <= test) #converting our estimate to pi!\r\n",
        "  return pi, abs(np.pi-pi)\r\n",
        "\r\n",
        "num_trials = [10**i for i in range(1, 9)] #creating a list of 9 values, from 10**1 to 10**8\r\n",
        "\r\n",
        "#for each number of trials in num_trials, compute an estimate for pi:\r\n",
        "estimate = []for \r\n",
        "for j in num_trials:\r\n",
        "   _, est= estimate_pi(j)\r\n",
        "   estimate.append(est)\r\n"
      ],
      "execution_count": 24,
      "outputs": []
    },
    {
      "cell_type": "code",
      "metadata": {
        "colab": {
          "base_uri": "https://localhost:8080/"
        },
        "id": "OzMLH7pjE6r5",
        "outputId": "c4e60ed5-565d-487c-cbe5-e8c43a9b381c"
      },
      "source": [
        "estimate_pi(100000) #Testing to see if estimate_pi it works!!"
      ],
      "execution_count": 27,
      "outputs": [
        {
          "output_type": "execute_result",
          "data": {
            "text/plain": [
              "(3.121878121878122, 0.019714531711671146)"
            ]
          },
          "metadata": {
            "tags": []
          },
          "execution_count": 27
        }
      ]
    },
    {
      "cell_type": "code",
      "metadata": {
        "colab": {
          "base_uri": "https://localhost:8080/",
          "height": 392
        },
        "id": "bokocI9VFP7s",
        "outputId": "f6a24d17-e254-4946-872f-bdb92365fdb8"
      },
      "source": [
        "import matplotlib.pyplot as plt\r\n",
        "\r\n",
        "#now that we have our estimates for each number of trials, we can plot with matplotlib:\r\n",
        "#note that I use the xscale and yscale to transform to log scale\r\n",
        "plt.figure(figsize=(8, 6))\r\n",
        "plt.plot(num_trials, estimate)\r\n",
        "plt.xlabel(\"Number of trials\")\r\n",
        "plt.xscale('log')\r\n",
        "plt.ylabel(\"Error estimate ($|Estimate-\\pi|$)\")\r\n",
        "plt.yscale('log')"
      ],
      "execution_count": 35,
      "outputs": [
        {
          "output_type": "display_data",
          "data": {
            "image/png": "[encoded data removed]",
            "text/plain": [
              "<Figure size 576x432 with 1 Axes>"
            ]
          },
          "metadata": {
            "tags": [],
            "needs_background": "light"
          }
        }
      ]
    },
    {
      "cell_type": "code",
      "metadata": {
        "colab": {
          "base_uri": "https://localhost:8080/",
          "height": 295
        },
        "id": "n1XOxyvoXeqg",
        "outputId": "b0a25096-445c-4c12-a6a4-cc872b566790"
      },
      "source": [
        "#How does the plot look like in normal scale?\r\n",
        "plt.plot(num_trials, estimate)"
      ],
      "execution_count": 30,
      "outputs": [
        {
          "output_type": "execute_result",
          "data": {
            "text/plain": [
              "[<matplotlib.lines.Line2D at 0x7fe70e3d9990>]"
            ]
          },
          "metadata": {
            "tags": []
          },
          "execution_count": 30
        },
        {
          "output_type": "display_data",
          "data": {
            "image/png": "[encoded data removed]",
            "text/plain": [
              "<Figure size 432x288 with 1 Axes>"
            ]
          },
          "metadata": {
            "tags": [],
            "needs_background": "light"
          }
        }
      ]
    },
    {
      "cell_type": "markdown",
      "metadata": {
        "id": "IEt4hxcEjjjP"
      },
      "source": [
        "# Q2"
      ]
    },
    {
      "cell_type": "code",
      "metadata": {
        "id": "EUis2x1lGTOy"
      },
      "source": [
        "error_or_pi=0 #if this value is 0, the below variables store the estimates for pi. If it is 1, they store the error instead.\r\n",
        "\r\n",
        "e1 = [estimate_pi(200)[error_or_pi] for _ in range(10000)] #using my estimate pi function above and a for loop to produce many different experiments!\r\n",
        "e2 = [estimate_pi(2000)[error_or_pi] for _ in range(1000)]\r\n",
        "e3 = [estimate_pi(20000)[error_or_pi] for _ in range(100)]\r\n",
        "e4 =  [estimate_pi(2000000)[error_or_pi] for _ in range(1)]"
      ],
      "execution_count": 51,
      "outputs": []
    },
    {
      "cell_type": "code",
      "metadata": {
        "colab": {
          "base_uri": "https://localhost:8080/",
          "height": 424
        },
        "id": "VwTWK1N3G-ZM",
        "outputId": "4b3dc99f-2d83-4596-eef6-7510c35b10dc"
      },
      "source": [
        "#Now, lets plot only the histogram for 200 trials and 10000 super-experiments\r\n",
        "plt.figure(figsize=(8, 6))\r\n",
        "plt.xlabel('Estimate of $\\pi$')\r\n",
        "plt.ylabel('Frequency')\r\n",
        "plt.hist(e1)\r\n",
        "print(np.mean(e1))\r\n",
        "print(np.std(e1))\r\n"
      ],
      "execution_count": 46,
      "outputs": [
        {
          "output_type": "stream",
          "text": [
            "3.175061998128274\n",
            "0.3364215036432942\n"
          ],
          "name": "stdout"
        },
        {
          "output_type": "display_data",
          "data": {
            "image/png": "[encoded data removed]",
            "text/plain": [
              "<Figure size 576x432 with 1 Axes>"
            ]
          },
          "metadata": {
            "tags": [],
            "needs_background": "light"
          }
        }
      ]
    },
    {
      "cell_type": "code",
      "metadata": {
        "colab": {
          "base_uri": "https://localhost:8080/",
          "height": 424
        },
        "id": "YO26iwneHC0V",
        "outputId": "afcb96bc-ec6b-4f72-89eb-8381a1c5506a"
      },
      "source": [
        "#Now for 2000 trials and 1000 super-experiments\r\n",
        "plt.figure(figsize=(8, 6))\r\n",
        "plt.xlabel('Estimate of $\\pi$')\r\n",
        "plt.ylabel('Frequency')\r\n",
        "plt.hist(e2)\r\n",
        "print(np.mean(e2))\r\n",
        "print(np.std(e2))"
      ],
      "execution_count": 44,
      "outputs": [
        {
          "output_type": "stream",
          "text": [
            "3.1509286487408925\n",
            "0.10555480700174293\n"
          ],
          "name": "stdout"
        },
        {
          "output_type": "display_data",
          "data": {
            "image/png": "[encoded data removed]",
            "text/plain": [
              "<Figure size 576x432 with 1 Axes>"
            ]
          },
          "metadata": {
            "tags": [],
            "needs_background": "light"
          }
        }
      ]
    },
    {
      "cell_type": "code",
      "metadata": {
        "colab": {
          "base_uri": "https://localhost:8080/",
          "height": 424
        },
        "id": "N5QyEJJ5HihG",
        "outputId": "fbd41cdd-8395-4a80-cff9-40e1cdf1e7fd"
      },
      "source": [
        "#finally for 20000 trials and 100 experiments\r\n",
        "plt.figure(figsize=(8, 6))\r\n",
        "plt.xlabel('Estimate of $\\pi$')\r\n",
        "plt.ylabel('Frequency')\r\n",
        "plt.hist(e3)\r\n",
        "print(np.mean(e3))\r\n",
        "print(np.std(e3))"
      ],
      "execution_count": 45,
      "outputs": [
        {
          "output_type": "stream",
          "text": [
            "3.1463345275510783\n",
            "0.03285748488895909\n"
          ],
          "name": "stdout"
        },
        {
          "output_type": "display_data",
          "data": {
            "image/png": "[encoded data removed]",
            "text/plain": [
              "<Figure size 576x432 with 1 Axes>"
            ]
          },
          "metadata": {
            "tags": [],
            "needs_background": "light"
          }
        }
      ]
    },
    {
      "cell_type": "code",
      "metadata": {
        "colab": {
          "base_uri": "https://localhost:8080/",
          "height": 441
        },
        "id": "MtowPZQN7Gfs",
        "outputId": "91fc4c5a-1cfd-419c-9a58-17a7846365af"
      },
      "source": [
        "#What if we do only one experiment and 2000000 trials???\r\n",
        "plt.figure(figsize=(8, 6))\r\n",
        "plt.xlabel('Estimate of $\\pi$')\r\n",
        "plt.ylabel('Frequency')\r\n",
        "plt.hist(e4)\r\n",
        "print(np.mean(e4))\r\n",
        "print(np.std(e4))\r\n",
        "e4"
      ],
      "execution_count": 53,
      "outputs": [
        {
          "output_type": "stream",
          "text": [
            "3.141418821810871\n",
            "0.0\n"
          ],
          "name": "stdout"
        },
        {
          "output_type": "execute_result",
          "data": {
            "text/plain": [
              "[3.141418821810871]"
            ]
          },
          "metadata": {
            "tags": []
          },
          "execution_count": 53
        },
        {
          "output_type": "display_data",
          "data": {
            "image/png": "[encoded data removed]",
            "text/plain": [
              "<Figure size 576x432 with 1 Axes>"
            ]
          },
          "metadata": {
            "tags": [],
            "needs_background": "light"
          }
        }
      ]
    },
    {
      "cell_type": "markdown",
      "metadata": {
        "id": "IjcvRGZcG0hu"
      },
      "source": [
        "My function only produced one estimate for pi, so we can't really have a histogram! But the estimate seems to be closer than any of those before!"
      ]
    },
    {
      "cell_type": "markdown",
      "metadata": {
        "id": "xJa12klaIxcs"
      },
      "source": [
        "# Q3"
      ]
    },
    {
      "cell_type": "code",
      "metadata": {
        "colab": {
          "base_uri": "https://localhost:8080/",
          "height": 405
        },
        "id": "XnqM_rb5Iyz0",
        "outputId": "5c1141d1-bf5b-4fd7-ad8f-6ff8d95bfb3e"
      },
      "source": [
        "import scipy.stats as sts\r\n",
        "\r\n",
        "x = np.linspace(0, 1, num=200)\r\n",
        "k = 7\r\n",
        "n = 9\r\n",
        "alpha = k\r\n",
        "beta = n + 1 - k\r\n",
        "\r\n",
        "samples = np.random.uniform(size=(n, 100000)) #sampling n values 100000 times\r\n",
        "samples.sort(axis=0) #sorting my samples!\r\n",
        "samples = samples[k-1,:] #k-1 because python uses zero-indexing\r\n",
        "\r\n",
        "plt.figure(figsize=(8, 6))\r\n",
        "plt.hist(samples, density=True, label='Histogram of Sampled 7th Smallest Variables')\r\n",
        "plt.plot(x, sts.beta.pdf(x, alpha, beta), label='Expected Beta PDF') #using scipy for the pdf!\r\n",
        "plt.xlabel('7th Smallest Value')\r\n",
        "plt.ylabel('Frequency')\r\n",
        "plt.legend()"
      ],
      "execution_count": 59,
      "outputs": [
        {
          "output_type": "execute_result",
          "data": {
            "text/plain": [
              "<matplotlib.legend.Legend at 0x7fe6faf96390>"
            ]
          },
          "metadata": {
            "tags": []
          },
          "execution_count": 59
        },
        {
          "output_type": "display_data",
          "data": {
            "image/png": "[encoded data removed]",
            "text/plain": [
              "<Figure size 576x432 with 1 Axes>"
            ]
          },
          "metadata": {
            "tags": [],
            "needs_background": "light"
          }
        }
      ]
    },
    {
      "cell_type": "code",
      "metadata": {
        "colab": {
          "base_uri": "https://localhost:8080/"
        },
        "id": "D2rkI9SpIU6b",
        "outputId": "b0aa1fa6-ebfb-4b7f-a5de-91e6c2e3c92b"
      },
      "source": [
        "#Extra exploration: what if we run bayesian inference on the samples, do we get a beta distribution with the parameters we expect from theory?\r\n",
        "#Apologies, I know this takes ages to run!!\r\n",
        "import pystan\r\n",
        "\r\n",
        "\r\n",
        "#Defining and compiling my model below:\r\n",
        "stan_code = \"\"\"\r\n",
        "\r\n",
        "\r\n",
        "data {  \r\n",
        "    int<lower=0> num;  //number of calls\r\n",
        "    real<lower=0> samples[num]; //defining a list rather than a sole real\r\n",
        "}\r\n",
        "\r\n",
        "\r\n",
        "parameters {\r\n",
        "    real<lower=0,upper=20> a; //60 was arbitrary, I though it is big enough\r\n",
        "    real<lower=0,upper=20> b;\r\n",
        "                              \r\n",
        "}\r\n",
        "\r\n",
        "\r\n",
        "model {\r\n",
        "    a ~ cauchy(7, 5);  // prior over lambda\r\n",
        "    b ~ cauchy(3, 5);\r\n",
        "    for(i in 1:num)\r\n",
        "      samples[i] ~ beta(a, b); //likelihood\r\n",
        "}\r\n",
        "\r\n",
        "\"\"\"\r\n",
        "\r\n",
        "stan_model = pystan.StanModel(model_code=stan_code) #Compiling the model"
      ],
      "execution_count": 66,
      "outputs": [
        {
          "output_type": "stream",
          "text": [
            "INFO:pystan:COMPILING THE C++ CODE FOR MODEL anon_model_ef867c28142c5edf4020d961a2ae22c7 NOW.\n"
          ],
          "name": "stderr"
        }
      ]
    },
    {
      "cell_type": "code",
      "metadata": {
        "id": "ToqCCMrdLjuH"
      },
      "source": [
        "#Sampling my model's parameters based on the data:\r\n",
        "stan_data = {'num':len(samples[0:3000]), 'samples':samples[0:3000]}\r\n",
        "\r\n",
        "stan_results = stan_model.sampling(data=stan_data) #Inputting data"
      ],
      "execution_count": 74,
      "outputs": []
    },
    {
      "cell_type": "code",
      "metadata": {
        "colab": {
          "base_uri": "https://localhost:8080/"
        },
        "id": "ynsuuuKTL0wk",
        "outputId": "8a82e551-adb1-4eaa-cf46-2978b5631f4b"
      },
      "source": [
        "#printing the results!\r\n",
        "print(stan_results)"
      ],
      "execution_count": 73,
      "outputs": [
        {
          "output_type": "stream",
          "text": [
            "Inference for Stan model: anon_model_ef867c28142c5edf4020d961a2ae22c7.\n",
            "4 chains, each with iter=2000; warmup=1000; thin=1; \n",
            "post-warmup draws per chain=1000, total post-warmup draws=4000.\n",
            "\n",
            "       mean se_mean     sd   2.5%    25%    50%    75%  97.5%  n_eff   Rhat\n",
            "a      7.18  4.5e-3   0.14   6.91   7.09   7.18   7.27   7.47    993    1.0\n",
            "b      3.05  1.8e-3   0.06   2.94   3.01   3.05   3.09   3.17    986    1.0\n",
            "lp__ 3046.1    0.03   0.99 3043.4 3045.8 3046.5 3046.8 3047.1    964    1.0\n",
            "\n",
            "Samples were drawn using NUTS at Wed Mar  3 04:04:49 2021.\n",
            "For each parameter, n_eff is a crude measure of effective sample size,\n",
            "and Rhat is the potential scale reduction factor on split chains (at \n",
            "convergence, Rhat=1).\n"
          ],
          "name": "stdout"
        }
      ]
    },
    {
      "cell_type": "code",
      "metadata": {
        "colab": {
          "base_uri": "https://localhost:8080/",
          "height": 405
        },
        "id": "7z301UUCTK_s",
        "outputId": "c30d0397-8ddb-40d8-f3d3-729f3d871464"
      },
      "source": [
        "#Now, lets plot the values for a as well as the 95% conf int:\r\n",
        "results = stan_results.extract()\r\n",
        "plt.figure(figsize=(8, 6))\r\n",
        "plt.hist(results['a'])\r\n",
        "intervals = np.quantile(results['a'], (0.025, 0.975))\r\n",
        "plt.axvline(x = intervals[0], ls='--', color = \"y\", label='95% Conf Int')\r\n",
        "plt.axvline(x=intervals[1], ls=\"--\", color = 'y')\r\n",
        "plt.xlabel('Estimate for a')\r\n",
        "plt.ylabel('Frequency')\r\n",
        "plt.legend()"
      ],
      "execution_count": 87,
      "outputs": [
        {
          "output_type": "execute_result",
          "data": {
            "text/plain": [
              "<matplotlib.legend.Legend at 0x7fe6f587ee90>"
            ]
          },
          "metadata": {
            "tags": []
          },
          "execution_count": 87
        },
        {
          "output_type": "display_data",
          "data": {
            "image/png": "[encoded data removed]",
            "text/plain": [
              "<Figure size 576x432 with 1 Axes>"
            ]
          },
          "metadata": {
            "tags": [],
            "needs_background": "light"
          }
        }
      ]
    },
    {
      "cell_type": "code",
      "metadata": {
        "colab": {
          "base_uri": "https://localhost:8080/",
          "height": 405
        },
        "id": "MAWFUyUSUOYL",
        "outputId": "74f26f60-f4ae-42e8-8a25-bf19c96f775e"
      },
      "source": [
        "#lets plot the value for b as well as the 95% conf it:\r\n",
        "plt.figure(figsize=(8, 6))\r\n",
        "plt.hist(results['b'])\r\n",
        "intervals = np.quantile(results['b'], (0.025, 0.975))\r\n",
        "plt.axvline(x = intervals[0], ls='--', color = \"y\", label='95% Conf Int')\r\n",
        "plt.axvline(x=intervals[1], ls=\"--\", color = 'y')\r\n",
        "plt.xlabel('Estimate for b')\r\n",
        "plt.ylabel('Frequency')\r\n",
        "plt.legend()"
      ],
      "execution_count": 88,
      "outputs": [
        {
          "output_type": "execute_result",
          "data": {
            "text/plain": [
              "<matplotlib.legend.Legend at 0x7fe6f5877d90>"
            ]
          },
          "metadata": {
            "tags": []
          },
          "execution_count": 88
        },
        {
          "output_type": "display_data",
          "data": {
            "image/png": "[encoded data removed]",
            "text/plain": [
              "<Figure size 576x432 with 1 Axes>"
            ]
          },
          "metadata": {
            "tags": [],
            "needs_background": "light"
          }
        }
      ]
    },
    {
      "cell_type": "markdown",
      "metadata": {
        "id": "4dsPIh06MKWK"
      },
      "source": [
        "# Q4"
      ]
    },
    {
      "cell_type": "code",
      "metadata": {
        "id": "b5LZQw5jML34"
      },
      "source": [
        "#First, I transcribed the matrix. \r\n",
        "\r\n",
        "#The below values I obtained from Mathematica (by solving the simple equations) and thus pasted them here! (There are certainly ways to do this in python but Mathematica rules!)\r\n",
        "c0 = (-1 + 2*np.e**3)/(2*np.e**3)\r\n",
        "c2 = (-1 + np.e)/(2*np.e)\r\n",
        "c3 = (-1 + 2*np.e)/(2*np.e)\r\n",
        "\r\n",
        "chain = np.asarray([[c0, 1/2*np.e**-3, 0, 0], [1/2, 0, 1/2, 0], [0, 1/2*np.e**-1, c2, 1/2], [0, 0, 1/2*np.e**-1, c3]])"
      ],
      "execution_count": 60,
      "outputs": []
    },
    {
      "cell_type": "code",
      "metadata": {
        "colab": {
          "base_uri": "https://localhost:8080/"
        },
        "id": "1va1WmzxQOWs",
        "outputId": "7c4534a1-add7-477d-b42d-0c62e8668be0"
      },
      "source": [
        "#I start off with a vector of all ones\r\n",
        "init = np.asarray([1, 1,  1, 1])\r\n",
        "for i in range(1000):\r\n",
        "  result = np.matmul(init, chain) #right multiplying the vector with the Matrix\r\n",
        "  init = result\r\n",
        "\r\n",
        "print(result/np.sum(result)) #normalizing the vector before I print it! (If I don't, it becomes hard to compare with the eigenvector below)"
      ],
      "execution_count": null,
      "outputs": [
        {
          "output_type": "stream",
          "text": [
            "[0.64391426 0.0320586  0.08714432 0.23688282]\n"
          ],
          "name": "stdout"
        }
      ]
    },
    {
      "cell_type": "code",
      "metadata": {
        "colab": {
          "base_uri": "https://localhost:8080/"
        },
        "id": "e4cROXtQA4im",
        "outputId": "043db807-6d16-43c0-b350-d1472c218256"
      },
      "source": [
        "#finding the eigenvector with numpy!\r\n",
        "eigenvectors = np.linalg.eig(np.transpose(chain))\r\n",
        "eigenvectors = eigenvectors[1] #grabing the eigenvectors and not the eigenvalues\r\n",
        "eigenvectors = eigenvectors[:,2]/np.sum(eigenvectors[:,2]) #grabbing the correct eigenvector (that corresponds to the eigenvalue of 1) and normalizing it for comparisson\r\n",
        "print(eigenvectors)"
      ],
      "execution_count": 61,
      "outputs": [
        {
          "output_type": "execute_result",
          "data": {
            "text/plain": [
              "array([0.64391426, 0.0320586 , 0.08714432, 0.23688282])"
            ]
          },
          "metadata": {
            "tags": []
          },
          "execution_count": 61
        }
      ]
    }
  ]
}